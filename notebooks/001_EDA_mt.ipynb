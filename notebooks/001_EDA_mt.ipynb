{
 "cells": [
  {
   "cell_type": "markdown",
   "metadata": {},
   "source": [
    "### EXPLORATORY DATA ANALYSIS"
   ]
  },
  {
   "cell_type": "markdown",
   "metadata": {},
   "source": [
    "En este EDA, encontrará todo el proceso de ETL, selección de características y entrenamiento de modelos para predecir puntajes de felicidad basados ​​en ciertas características."
   ]
  },
  {
   "cell_type": "markdown",
   "metadata": {},
   "source": [
    "Importar las librerias necesarias."
   ]
  },
  {
   "cell_type": "code",
   "execution_count": 1,
   "metadata": {},
   "outputs": [],
   "source": [
    "import pandas as pd\n",
    "import numpy as np\n",
    "import os\n",
    "import seaborn as sns\n",
    "import matplotlib.pyplot as plt\n",
    "from sklearn.model_selection import train_test_split\n",
    "from sklearn.ensemble import RandomForestRegressor\n",
    "from sklearn.metrics import mean_squared_error, r2_score\n"
   ]
  },
  {
   "cell_type": "markdown",
   "metadata": {},
   "source": [
    "Leer datos 2015."
   ]
  },
  {
   "cell_type": "code",
   "execution_count": 2,
   "metadata": {},
   "outputs": [
    {
     "name": "stdout",
     "output_type": "stream",
     "text": [
      "<class 'pandas.core.frame.DataFrame'>\n",
      "RangeIndex: 158 entries, 0 to 157\n",
      "Data columns (total 12 columns):\n",
      " #   Column                         Non-Null Count  Dtype  \n",
      "---  ------                         --------------  -----  \n",
      " 0   Country                        158 non-null    object \n",
      " 1   Region                         158 non-null    object \n",
      " 2   Happiness Rank                 158 non-null    int64  \n",
      " 3   Happiness Score                158 non-null    float64\n",
      " 4   Standard Error                 158 non-null    float64\n",
      " 5   Economy (GDP per Capita)       158 non-null    float64\n",
      " 6   Family                         158 non-null    float64\n",
      " 7   Health (Life Expectancy)       158 non-null    float64\n",
      " 8   Freedom                        158 non-null    float64\n",
      " 9   Trust (Government Corruption)  158 non-null    float64\n",
      " 10  Generosity                     158 non-null    float64\n",
      " 11  Dystopia Residual              158 non-null    float64\n",
      "dtypes: float64(9), int64(1), object(2)\n",
      "memory usage: 14.9+ KB\n",
      "None\n"
     ]
    }
   ],
   "source": [
    "data_2015_csv = '../data/2015.csv'\n",
    "data_2015 = pd.read_csv(data_2015_csv, delimiter=',')\n",
    "print(data_2015.info())"
   ]
  },
  {
   "cell_type": "markdown",
   "metadata": {},
   "source": [
    " Los datos de 2015 se han cargado correctamente y no presentan valores nulos, con 158 filas y 12 columnas."
   ]
  },
  {
   "cell_type": "code",
   "execution_count": 3,
   "metadata": {},
   "outputs": [
    {
     "data": {
      "text/html": [
       "<div>\n",
       "<style scoped>\n",
       "    .dataframe tbody tr th:only-of-type {\n",
       "        vertical-align: middle;\n",
       "    }\n",
       "\n",
       "    .dataframe tbody tr th {\n",
       "        vertical-align: top;\n",
       "    }\n",
       "\n",
       "    .dataframe thead th {\n",
       "        text-align: right;\n",
       "    }\n",
       "</style>\n",
       "<table border=\"1\" class=\"dataframe\">\n",
       "  <thead>\n",
       "    <tr style=\"text-align: right;\">\n",
       "      <th></th>\n",
       "      <th>Country</th>\n",
       "      <th>Region</th>\n",
       "      <th>Happiness Rank</th>\n",
       "      <th>Happiness Score</th>\n",
       "      <th>Standard Error</th>\n",
       "      <th>Economy (GDP per Capita)</th>\n",
       "      <th>Family</th>\n",
       "      <th>Health (Life Expectancy)</th>\n",
       "      <th>Freedom</th>\n",
       "      <th>Trust (Government Corruption)</th>\n",
       "      <th>Generosity</th>\n",
       "      <th>Dystopia Residual</th>\n",
       "    </tr>\n",
       "  </thead>\n",
       "  <tbody>\n",
       "    <tr>\n",
       "      <th>0</th>\n",
       "      <td>Switzerland</td>\n",
       "      <td>Western Europe</td>\n",
       "      <td>1</td>\n",
       "      <td>7.587</td>\n",
       "      <td>0.03411</td>\n",
       "      <td>1.39651</td>\n",
       "      <td>1.34951</td>\n",
       "      <td>0.94143</td>\n",
       "      <td>0.66557</td>\n",
       "      <td>0.41978</td>\n",
       "      <td>0.29678</td>\n",
       "      <td>2.51738</td>\n",
       "    </tr>\n",
       "    <tr>\n",
       "      <th>1</th>\n",
       "      <td>Iceland</td>\n",
       "      <td>Western Europe</td>\n",
       "      <td>2</td>\n",
       "      <td>7.561</td>\n",
       "      <td>0.04884</td>\n",
       "      <td>1.30232</td>\n",
       "      <td>1.40223</td>\n",
       "      <td>0.94784</td>\n",
       "      <td>0.62877</td>\n",
       "      <td>0.14145</td>\n",
       "      <td>0.43630</td>\n",
       "      <td>2.70201</td>\n",
       "    </tr>\n",
       "    <tr>\n",
       "      <th>2</th>\n",
       "      <td>Denmark</td>\n",
       "      <td>Western Europe</td>\n",
       "      <td>3</td>\n",
       "      <td>7.527</td>\n",
       "      <td>0.03328</td>\n",
       "      <td>1.32548</td>\n",
       "      <td>1.36058</td>\n",
       "      <td>0.87464</td>\n",
       "      <td>0.64938</td>\n",
       "      <td>0.48357</td>\n",
       "      <td>0.34139</td>\n",
       "      <td>2.49204</td>\n",
       "    </tr>\n",
       "    <tr>\n",
       "      <th>3</th>\n",
       "      <td>Norway</td>\n",
       "      <td>Western Europe</td>\n",
       "      <td>4</td>\n",
       "      <td>7.522</td>\n",
       "      <td>0.03880</td>\n",
       "      <td>1.45900</td>\n",
       "      <td>1.33095</td>\n",
       "      <td>0.88521</td>\n",
       "      <td>0.66973</td>\n",
       "      <td>0.36503</td>\n",
       "      <td>0.34699</td>\n",
       "      <td>2.46531</td>\n",
       "    </tr>\n",
       "    <tr>\n",
       "      <th>4</th>\n",
       "      <td>Canada</td>\n",
       "      <td>North America</td>\n",
       "      <td>5</td>\n",
       "      <td>7.427</td>\n",
       "      <td>0.03553</td>\n",
       "      <td>1.32629</td>\n",
       "      <td>1.32261</td>\n",
       "      <td>0.90563</td>\n",
       "      <td>0.63297</td>\n",
       "      <td>0.32957</td>\n",
       "      <td>0.45811</td>\n",
       "      <td>2.45176</td>\n",
       "    </tr>\n",
       "  </tbody>\n",
       "</table>\n",
       "</div>"
      ],
      "text/plain": [
       "       Country          Region  Happiness Rank  Happiness Score  \\\n",
       "0  Switzerland  Western Europe               1            7.587   \n",
       "1      Iceland  Western Europe               2            7.561   \n",
       "2      Denmark  Western Europe               3            7.527   \n",
       "3       Norway  Western Europe               4            7.522   \n",
       "4       Canada   North America               5            7.427   \n",
       "\n",
       "   Standard Error  Economy (GDP per Capita)   Family  \\\n",
       "0         0.03411                   1.39651  1.34951   \n",
       "1         0.04884                   1.30232  1.40223   \n",
       "2         0.03328                   1.32548  1.36058   \n",
       "3         0.03880                   1.45900  1.33095   \n",
       "4         0.03553                   1.32629  1.32261   \n",
       "\n",
       "   Health (Life Expectancy)  Freedom  Trust (Government Corruption)  \\\n",
       "0                   0.94143  0.66557                        0.41978   \n",
       "1                   0.94784  0.62877                        0.14145   \n",
       "2                   0.87464  0.64938                        0.48357   \n",
       "3                   0.88521  0.66973                        0.36503   \n",
       "4                   0.90563  0.63297                        0.32957   \n",
       "\n",
       "   Generosity  Dystopia Residual  \n",
       "0     0.29678            2.51738  \n",
       "1     0.43630            2.70201  \n",
       "2     0.34139            2.49204  \n",
       "3     0.34699            2.46531  \n",
       "4     0.45811            2.45176  "
      ]
     },
     "execution_count": 3,
     "metadata": {},
     "output_type": "execute_result"
    }
   ],
   "source": [
    "data_2015.head(5)"
   ]
  },
  {
   "cell_type": "markdown",
   "metadata": {},
   "source": [
    "Al visualizar los primeros cinco registros con head(), se observa que las variables como Happiness Score, Economy (GDP per Capita), Family, y Health (Life Expectancy) están bien formateadas y son numéricas."
   ]
  },
  {
   "cell_type": "code",
   "execution_count": 4,
   "metadata": {},
   "outputs": [
    {
     "data": {
      "text/html": [
       "<div>\n",
       "<style scoped>\n",
       "    .dataframe tbody tr th:only-of-type {\n",
       "        vertical-align: middle;\n",
       "    }\n",
       "\n",
       "    .dataframe tbody tr th {\n",
       "        vertical-align: top;\n",
       "    }\n",
       "\n",
       "    .dataframe thead th {\n",
       "        text-align: right;\n",
       "    }\n",
       "</style>\n",
       "<table border=\"1\" class=\"dataframe\">\n",
       "  <thead>\n",
       "    <tr style=\"text-align: right;\">\n",
       "      <th></th>\n",
       "      <th>count</th>\n",
       "      <th>mean</th>\n",
       "      <th>std</th>\n",
       "      <th>min</th>\n",
       "      <th>25%</th>\n",
       "      <th>50%</th>\n",
       "      <th>75%</th>\n",
       "      <th>max</th>\n",
       "    </tr>\n",
       "  </thead>\n",
       "  <tbody>\n",
       "    <tr>\n",
       "      <th>Happiness Rank</th>\n",
       "      <td>158.0</td>\n",
       "      <td>79.493671</td>\n",
       "      <td>45.754363</td>\n",
       "      <td>1.00000</td>\n",
       "      <td>40.250000</td>\n",
       "      <td>79.500000</td>\n",
       "      <td>118.750000</td>\n",
       "      <td>158.00000</td>\n",
       "    </tr>\n",
       "    <tr>\n",
       "      <th>Happiness Score</th>\n",
       "      <td>158.0</td>\n",
       "      <td>5.375734</td>\n",
       "      <td>1.145010</td>\n",
       "      <td>2.83900</td>\n",
       "      <td>4.526000</td>\n",
       "      <td>5.232500</td>\n",
       "      <td>6.243750</td>\n",
       "      <td>7.58700</td>\n",
       "    </tr>\n",
       "    <tr>\n",
       "      <th>Standard Error</th>\n",
       "      <td>158.0</td>\n",
       "      <td>0.047885</td>\n",
       "      <td>0.017146</td>\n",
       "      <td>0.01848</td>\n",
       "      <td>0.037268</td>\n",
       "      <td>0.043940</td>\n",
       "      <td>0.052300</td>\n",
       "      <td>0.13693</td>\n",
       "    </tr>\n",
       "    <tr>\n",
       "      <th>Economy (GDP per Capita)</th>\n",
       "      <td>158.0</td>\n",
       "      <td>0.846137</td>\n",
       "      <td>0.403121</td>\n",
       "      <td>0.00000</td>\n",
       "      <td>0.545808</td>\n",
       "      <td>0.910245</td>\n",
       "      <td>1.158448</td>\n",
       "      <td>1.69042</td>\n",
       "    </tr>\n",
       "    <tr>\n",
       "      <th>Family</th>\n",
       "      <td>158.0</td>\n",
       "      <td>0.991046</td>\n",
       "      <td>0.272369</td>\n",
       "      <td>0.00000</td>\n",
       "      <td>0.856823</td>\n",
       "      <td>1.029510</td>\n",
       "      <td>1.214405</td>\n",
       "      <td>1.40223</td>\n",
       "    </tr>\n",
       "    <tr>\n",
       "      <th>Health (Life Expectancy)</th>\n",
       "      <td>158.0</td>\n",
       "      <td>0.630259</td>\n",
       "      <td>0.247078</td>\n",
       "      <td>0.00000</td>\n",
       "      <td>0.439185</td>\n",
       "      <td>0.696705</td>\n",
       "      <td>0.811013</td>\n",
       "      <td>1.02525</td>\n",
       "    </tr>\n",
       "    <tr>\n",
       "      <th>Freedom</th>\n",
       "      <td>158.0</td>\n",
       "      <td>0.428615</td>\n",
       "      <td>0.150693</td>\n",
       "      <td>0.00000</td>\n",
       "      <td>0.328330</td>\n",
       "      <td>0.435515</td>\n",
       "      <td>0.549092</td>\n",
       "      <td>0.66973</td>\n",
       "    </tr>\n",
       "    <tr>\n",
       "      <th>Trust (Government Corruption)</th>\n",
       "      <td>158.0</td>\n",
       "      <td>0.143422</td>\n",
       "      <td>0.120034</td>\n",
       "      <td>0.00000</td>\n",
       "      <td>0.061675</td>\n",
       "      <td>0.107220</td>\n",
       "      <td>0.180255</td>\n",
       "      <td>0.55191</td>\n",
       "    </tr>\n",
       "    <tr>\n",
       "      <th>Generosity</th>\n",
       "      <td>158.0</td>\n",
       "      <td>0.237296</td>\n",
       "      <td>0.126685</td>\n",
       "      <td>0.00000</td>\n",
       "      <td>0.150553</td>\n",
       "      <td>0.216130</td>\n",
       "      <td>0.309883</td>\n",
       "      <td>0.79588</td>\n",
       "    </tr>\n",
       "    <tr>\n",
       "      <th>Dystopia Residual</th>\n",
       "      <td>158.0</td>\n",
       "      <td>2.098977</td>\n",
       "      <td>0.553550</td>\n",
       "      <td>0.32858</td>\n",
       "      <td>1.759410</td>\n",
       "      <td>2.095415</td>\n",
       "      <td>2.462415</td>\n",
       "      <td>3.60214</td>\n",
       "    </tr>\n",
       "  </tbody>\n",
       "</table>\n",
       "</div>"
      ],
      "text/plain": [
       "                               count       mean        std      min  \\\n",
       "Happiness Rank                 158.0  79.493671  45.754363  1.00000   \n",
       "Happiness Score                158.0   5.375734   1.145010  2.83900   \n",
       "Standard Error                 158.0   0.047885   0.017146  0.01848   \n",
       "Economy (GDP per Capita)       158.0   0.846137   0.403121  0.00000   \n",
       "Family                         158.0   0.991046   0.272369  0.00000   \n",
       "Health (Life Expectancy)       158.0   0.630259   0.247078  0.00000   \n",
       "Freedom                        158.0   0.428615   0.150693  0.00000   \n",
       "Trust (Government Corruption)  158.0   0.143422   0.120034  0.00000   \n",
       "Generosity                     158.0   0.237296   0.126685  0.00000   \n",
       "Dystopia Residual              158.0   2.098977   0.553550  0.32858   \n",
       "\n",
       "                                     25%        50%         75%        max  \n",
       "Happiness Rank                 40.250000  79.500000  118.750000  158.00000  \n",
       "Happiness Score                 4.526000   5.232500    6.243750    7.58700  \n",
       "Standard Error                  0.037268   0.043940    0.052300    0.13693  \n",
       "Economy (GDP per Capita)        0.545808   0.910245    1.158448    1.69042  \n",
       "Family                          0.856823   1.029510    1.214405    1.40223  \n",
       "Health (Life Expectancy)        0.439185   0.696705    0.811013    1.02525  \n",
       "Freedom                         0.328330   0.435515    0.549092    0.66973  \n",
       "Trust (Government Corruption)   0.061675   0.107220    0.180255    0.55191  \n",
       "Generosity                      0.150553   0.216130    0.309883    0.79588  \n",
       "Dystopia Residual               1.759410   2.095415    2.462415    3.60214  "
      ]
     },
     "execution_count": 4,
     "metadata": {},
     "output_type": "execute_result"
    }
   ],
   "source": [
    "data_2015.describe().T"
   ]
  },
  {
   "cell_type": "markdown",
   "metadata": {},
   "source": [
    "Se realiza un resumen estadístico donde se puede ver la media, desviación estándar, mínimos, máximos, y los percentiles de las variables como el Happiness Score, Economy (GDP per Capita), y otras."
   ]
  },
  {
   "cell_type": "markdown",
   "metadata": {},
   "source": [
    "Leer datos 2016."
   ]
  },
  {
   "cell_type": "code",
   "execution_count": 5,
   "metadata": {},
   "outputs": [
    {
     "name": "stdout",
     "output_type": "stream",
     "text": [
      "<class 'pandas.core.frame.DataFrame'>\n",
      "RangeIndex: 157 entries, 0 to 156\n",
      "Data columns (total 13 columns):\n",
      " #   Column                         Non-Null Count  Dtype  \n",
      "---  ------                         --------------  -----  \n",
      " 0   Country                        157 non-null    object \n",
      " 1   Region                         157 non-null    object \n",
      " 2   Happiness Rank                 157 non-null    int64  \n",
      " 3   Happiness Score                157 non-null    float64\n",
      " 4   Lower Confidence Interval      157 non-null    float64\n",
      " 5   Upper Confidence Interval      157 non-null    float64\n",
      " 6   Economy (GDP per Capita)       157 non-null    float64\n",
      " 7   Family                         157 non-null    float64\n",
      " 8   Health (Life Expectancy)       157 non-null    float64\n",
      " 9   Freedom                        157 non-null    float64\n",
      " 10  Trust (Government Corruption)  157 non-null    float64\n",
      " 11  Generosity                     157 non-null    float64\n",
      " 12  Dystopia Residual              157 non-null    float64\n",
      "dtypes: float64(10), int64(1), object(2)\n",
      "memory usage: 16.1+ KB\n",
      "None\n"
     ]
    }
   ],
   "source": [
    "data_2016_csv = '../data/2016.csv'\n",
    "data_2016 = pd.read_csv(data_2016_csv, delimiter=',')\n",
    "print(data_2016.info())"
   ]
  },
  {
   "cell_type": "markdown",
   "metadata": {},
   "source": [
    "Los datos de 2016 contienen 157 entradas y 13 columnas, lo cual incluye nuevas columnas como Lower Confidence Interval y Upper Confidence Interval, y tampoco hay valores nulos en ninguna columna."
   ]
  },
  {
   "cell_type": "code",
   "execution_count": 6,
   "metadata": {},
   "outputs": [
    {
     "data": {
      "text/html": [
       "<div>\n",
       "<style scoped>\n",
       "    .dataframe tbody tr th:only-of-type {\n",
       "        vertical-align: middle;\n",
       "    }\n",
       "\n",
       "    .dataframe tbody tr th {\n",
       "        vertical-align: top;\n",
       "    }\n",
       "\n",
       "    .dataframe thead th {\n",
       "        text-align: right;\n",
       "    }\n",
       "</style>\n",
       "<table border=\"1\" class=\"dataframe\">\n",
       "  <thead>\n",
       "    <tr style=\"text-align: right;\">\n",
       "      <th></th>\n",
       "      <th>Country</th>\n",
       "      <th>Region</th>\n",
       "      <th>Happiness Rank</th>\n",
       "      <th>Happiness Score</th>\n",
       "      <th>Lower Confidence Interval</th>\n",
       "      <th>Upper Confidence Interval</th>\n",
       "      <th>Economy (GDP per Capita)</th>\n",
       "      <th>Family</th>\n",
       "      <th>Health (Life Expectancy)</th>\n",
       "      <th>Freedom</th>\n",
       "      <th>Trust (Government Corruption)</th>\n",
       "      <th>Generosity</th>\n",
       "      <th>Dystopia Residual</th>\n",
       "    </tr>\n",
       "  </thead>\n",
       "  <tbody>\n",
       "    <tr>\n",
       "      <th>0</th>\n",
       "      <td>Denmark</td>\n",
       "      <td>Western Europe</td>\n",
       "      <td>1</td>\n",
       "      <td>7.526</td>\n",
       "      <td>7.460</td>\n",
       "      <td>7.592</td>\n",
       "      <td>1.44178</td>\n",
       "      <td>1.16374</td>\n",
       "      <td>0.79504</td>\n",
       "      <td>0.57941</td>\n",
       "      <td>0.44453</td>\n",
       "      <td>0.36171</td>\n",
       "      <td>2.73939</td>\n",
       "    </tr>\n",
       "    <tr>\n",
       "      <th>1</th>\n",
       "      <td>Switzerland</td>\n",
       "      <td>Western Europe</td>\n",
       "      <td>2</td>\n",
       "      <td>7.509</td>\n",
       "      <td>7.428</td>\n",
       "      <td>7.590</td>\n",
       "      <td>1.52733</td>\n",
       "      <td>1.14524</td>\n",
       "      <td>0.86303</td>\n",
       "      <td>0.58557</td>\n",
       "      <td>0.41203</td>\n",
       "      <td>0.28083</td>\n",
       "      <td>2.69463</td>\n",
       "    </tr>\n",
       "    <tr>\n",
       "      <th>2</th>\n",
       "      <td>Iceland</td>\n",
       "      <td>Western Europe</td>\n",
       "      <td>3</td>\n",
       "      <td>7.501</td>\n",
       "      <td>7.333</td>\n",
       "      <td>7.669</td>\n",
       "      <td>1.42666</td>\n",
       "      <td>1.18326</td>\n",
       "      <td>0.86733</td>\n",
       "      <td>0.56624</td>\n",
       "      <td>0.14975</td>\n",
       "      <td>0.47678</td>\n",
       "      <td>2.83137</td>\n",
       "    </tr>\n",
       "    <tr>\n",
       "      <th>3</th>\n",
       "      <td>Norway</td>\n",
       "      <td>Western Europe</td>\n",
       "      <td>4</td>\n",
       "      <td>7.498</td>\n",
       "      <td>7.421</td>\n",
       "      <td>7.575</td>\n",
       "      <td>1.57744</td>\n",
       "      <td>1.12690</td>\n",
       "      <td>0.79579</td>\n",
       "      <td>0.59609</td>\n",
       "      <td>0.35776</td>\n",
       "      <td>0.37895</td>\n",
       "      <td>2.66465</td>\n",
       "    </tr>\n",
       "    <tr>\n",
       "      <th>4</th>\n",
       "      <td>Finland</td>\n",
       "      <td>Western Europe</td>\n",
       "      <td>5</td>\n",
       "      <td>7.413</td>\n",
       "      <td>7.351</td>\n",
       "      <td>7.475</td>\n",
       "      <td>1.40598</td>\n",
       "      <td>1.13464</td>\n",
       "      <td>0.81091</td>\n",
       "      <td>0.57104</td>\n",
       "      <td>0.41004</td>\n",
       "      <td>0.25492</td>\n",
       "      <td>2.82596</td>\n",
       "    </tr>\n",
       "  </tbody>\n",
       "</table>\n",
       "</div>"
      ],
      "text/plain": [
       "       Country          Region  Happiness Rank  Happiness Score  \\\n",
       "0      Denmark  Western Europe               1            7.526   \n",
       "1  Switzerland  Western Europe               2            7.509   \n",
       "2      Iceland  Western Europe               3            7.501   \n",
       "3       Norway  Western Europe               4            7.498   \n",
       "4      Finland  Western Europe               5            7.413   \n",
       "\n",
       "   Lower Confidence Interval  Upper Confidence Interval  \\\n",
       "0                      7.460                      7.592   \n",
       "1                      7.428                      7.590   \n",
       "2                      7.333                      7.669   \n",
       "3                      7.421                      7.575   \n",
       "4                      7.351                      7.475   \n",
       "\n",
       "   Economy (GDP per Capita)   Family  Health (Life Expectancy)  Freedom  \\\n",
       "0                   1.44178  1.16374                   0.79504  0.57941   \n",
       "1                   1.52733  1.14524                   0.86303  0.58557   \n",
       "2                   1.42666  1.18326                   0.86733  0.56624   \n",
       "3                   1.57744  1.12690                   0.79579  0.59609   \n",
       "4                   1.40598  1.13464                   0.81091  0.57104   \n",
       "\n",
       "   Trust (Government Corruption)  Generosity  Dystopia Residual  \n",
       "0                        0.44453     0.36171            2.73939  \n",
       "1                        0.41203     0.28083            2.69463  \n",
       "2                        0.14975     0.47678            2.83137  \n",
       "3                        0.35776     0.37895            2.66465  \n",
       "4                        0.41004     0.25492            2.82596  "
      ]
     },
     "execution_count": 6,
     "metadata": {},
     "output_type": "execute_result"
    }
   ],
   "source": [
    "data_2016.head(5)"
   ]
  },
  {
   "cell_type": "markdown",
   "metadata": {},
   "source": [
    "En estas primeras cinco filas del dataset de 2016. Se pueden ver columnas adicionales que no estaban presentes en 2015, como el Lower Confidence Interval y el Upper Confidence Interval.\n",
    "Estas nuevas columnas proporcionan información sobre el rango de confianza para el puntaje de felicidad."
   ]
  },
  {
   "cell_type": "code",
   "execution_count": 7,
   "metadata": {},
   "outputs": [
    {
     "data": {
      "text/html": [
       "<div>\n",
       "<style scoped>\n",
       "    .dataframe tbody tr th:only-of-type {\n",
       "        vertical-align: middle;\n",
       "    }\n",
       "\n",
       "    .dataframe tbody tr th {\n",
       "        vertical-align: top;\n",
       "    }\n",
       "\n",
       "    .dataframe thead th {\n",
       "        text-align: right;\n",
       "    }\n",
       "</style>\n",
       "<table border=\"1\" class=\"dataframe\">\n",
       "  <thead>\n",
       "    <tr style=\"text-align: right;\">\n",
       "      <th></th>\n",
       "      <th>count</th>\n",
       "      <th>mean</th>\n",
       "      <th>std</th>\n",
       "      <th>min</th>\n",
       "      <th>25%</th>\n",
       "      <th>50%</th>\n",
       "      <th>75%</th>\n",
       "      <th>max</th>\n",
       "    </tr>\n",
       "  </thead>\n",
       "  <tbody>\n",
       "    <tr>\n",
       "      <th>Happiness Rank</th>\n",
       "      <td>157.0</td>\n",
       "      <td>78.980892</td>\n",
       "      <td>45.466030</td>\n",
       "      <td>1.00000</td>\n",
       "      <td>40.00000</td>\n",
       "      <td>79.00000</td>\n",
       "      <td>118.00000</td>\n",
       "      <td>157.00000</td>\n",
       "    </tr>\n",
       "    <tr>\n",
       "      <th>Happiness Score</th>\n",
       "      <td>157.0</td>\n",
       "      <td>5.382185</td>\n",
       "      <td>1.141674</td>\n",
       "      <td>2.90500</td>\n",
       "      <td>4.40400</td>\n",
       "      <td>5.31400</td>\n",
       "      <td>6.26900</td>\n",
       "      <td>7.52600</td>\n",
       "    </tr>\n",
       "    <tr>\n",
       "      <th>Lower Confidence Interval</th>\n",
       "      <td>157.0</td>\n",
       "      <td>5.282395</td>\n",
       "      <td>1.148043</td>\n",
       "      <td>2.73200</td>\n",
       "      <td>4.32700</td>\n",
       "      <td>5.23700</td>\n",
       "      <td>6.15400</td>\n",
       "      <td>7.46000</td>\n",
       "    </tr>\n",
       "    <tr>\n",
       "      <th>Upper Confidence Interval</th>\n",
       "      <td>157.0</td>\n",
       "      <td>5.481975</td>\n",
       "      <td>1.136493</td>\n",
       "      <td>3.07800</td>\n",
       "      <td>4.46500</td>\n",
       "      <td>5.41900</td>\n",
       "      <td>6.43400</td>\n",
       "      <td>7.66900</td>\n",
       "    </tr>\n",
       "    <tr>\n",
       "      <th>Economy (GDP per Capita)</th>\n",
       "      <td>157.0</td>\n",
       "      <td>0.953880</td>\n",
       "      <td>0.412595</td>\n",
       "      <td>0.00000</td>\n",
       "      <td>0.67024</td>\n",
       "      <td>1.02780</td>\n",
       "      <td>1.27964</td>\n",
       "      <td>1.82427</td>\n",
       "    </tr>\n",
       "    <tr>\n",
       "      <th>Family</th>\n",
       "      <td>157.0</td>\n",
       "      <td>0.793621</td>\n",
       "      <td>0.266706</td>\n",
       "      <td>0.00000</td>\n",
       "      <td>0.64184</td>\n",
       "      <td>0.84142</td>\n",
       "      <td>1.02152</td>\n",
       "      <td>1.18326</td>\n",
       "    </tr>\n",
       "    <tr>\n",
       "      <th>Health (Life Expectancy)</th>\n",
       "      <td>157.0</td>\n",
       "      <td>0.557619</td>\n",
       "      <td>0.229349</td>\n",
       "      <td>0.00000</td>\n",
       "      <td>0.38291</td>\n",
       "      <td>0.59659</td>\n",
       "      <td>0.72993</td>\n",
       "      <td>0.95277</td>\n",
       "    </tr>\n",
       "    <tr>\n",
       "      <th>Freedom</th>\n",
       "      <td>157.0</td>\n",
       "      <td>0.370994</td>\n",
       "      <td>0.145507</td>\n",
       "      <td>0.00000</td>\n",
       "      <td>0.25748</td>\n",
       "      <td>0.39747</td>\n",
       "      <td>0.48453</td>\n",
       "      <td>0.60848</td>\n",
       "    </tr>\n",
       "    <tr>\n",
       "      <th>Trust (Government Corruption)</th>\n",
       "      <td>157.0</td>\n",
       "      <td>0.137624</td>\n",
       "      <td>0.111038</td>\n",
       "      <td>0.00000</td>\n",
       "      <td>0.06126</td>\n",
       "      <td>0.10547</td>\n",
       "      <td>0.17554</td>\n",
       "      <td>0.50521</td>\n",
       "    </tr>\n",
       "    <tr>\n",
       "      <th>Generosity</th>\n",
       "      <td>157.0</td>\n",
       "      <td>0.242635</td>\n",
       "      <td>0.133756</td>\n",
       "      <td>0.00000</td>\n",
       "      <td>0.15457</td>\n",
       "      <td>0.22245</td>\n",
       "      <td>0.31185</td>\n",
       "      <td>0.81971</td>\n",
       "    </tr>\n",
       "    <tr>\n",
       "      <th>Dystopia Residual</th>\n",
       "      <td>157.0</td>\n",
       "      <td>2.325807</td>\n",
       "      <td>0.542220</td>\n",
       "      <td>0.81789</td>\n",
       "      <td>2.03171</td>\n",
       "      <td>2.29074</td>\n",
       "      <td>2.66465</td>\n",
       "      <td>3.83772</td>\n",
       "    </tr>\n",
       "  </tbody>\n",
       "</table>\n",
       "</div>"
      ],
      "text/plain": [
       "                               count       mean        std      min       25%  \\\n",
       "Happiness Rank                 157.0  78.980892  45.466030  1.00000  40.00000   \n",
       "Happiness Score                157.0   5.382185   1.141674  2.90500   4.40400   \n",
       "Lower Confidence Interval      157.0   5.282395   1.148043  2.73200   4.32700   \n",
       "Upper Confidence Interval      157.0   5.481975   1.136493  3.07800   4.46500   \n",
       "Economy (GDP per Capita)       157.0   0.953880   0.412595  0.00000   0.67024   \n",
       "Family                         157.0   0.793621   0.266706  0.00000   0.64184   \n",
       "Health (Life Expectancy)       157.0   0.557619   0.229349  0.00000   0.38291   \n",
       "Freedom                        157.0   0.370994   0.145507  0.00000   0.25748   \n",
       "Trust (Government Corruption)  157.0   0.137624   0.111038  0.00000   0.06126   \n",
       "Generosity                     157.0   0.242635   0.133756  0.00000   0.15457   \n",
       "Dystopia Residual              157.0   2.325807   0.542220  0.81789   2.03171   \n",
       "\n",
       "                                    50%        75%        max  \n",
       "Happiness Rank                 79.00000  118.00000  157.00000  \n",
       "Happiness Score                 5.31400    6.26900    7.52600  \n",
       "Lower Confidence Interval       5.23700    6.15400    7.46000  \n",
       "Upper Confidence Interval       5.41900    6.43400    7.66900  \n",
       "Economy (GDP per Capita)        1.02780    1.27964    1.82427  \n",
       "Family                          0.84142    1.02152    1.18326  \n",
       "Health (Life Expectancy)        0.59659    0.72993    0.95277  \n",
       "Freedom                         0.39747    0.48453    0.60848  \n",
       "Trust (Government Corruption)   0.10547    0.17554    0.50521  \n",
       "Generosity                      0.22245    0.31185    0.81971  \n",
       "Dystopia Residual               2.29074    2.66465    3.83772  "
      ]
     },
     "execution_count": 7,
     "metadata": {},
     "output_type": "execute_result"
    }
   ],
   "source": [
    "data_2016.describe().T"
   ]
  },
  {
   "cell_type": "markdown",
   "metadata": {},
   "source": [
    "Se realiza un resumen estadístico donde datos como la media y desviación estándar, indican algunas diferencias en variables clave como el Happiness Score, Economy (GDP per Capita) y Generosity comparado con el año anterior.\n",
    "\n",
    "Por ejemplo, el puntaje promedio de felicidad en 2016 es de 5.38, un poco menor que el de 2015, que era de 5.53."
   ]
  },
  {
   "cell_type": "markdown",
   "metadata": {},
   "source": [
    "Leer datos 2017."
   ]
  },
  {
   "cell_type": "code",
   "execution_count": 8,
   "metadata": {},
   "outputs": [
    {
     "name": "stdout",
     "output_type": "stream",
     "text": [
      "<class 'pandas.core.frame.DataFrame'>\n",
      "RangeIndex: 155 entries, 0 to 154\n",
      "Data columns (total 12 columns):\n",
      " #   Column                         Non-Null Count  Dtype  \n",
      "---  ------                         --------------  -----  \n",
      " 0   Country                        155 non-null    object \n",
      " 1   Happiness.Rank                 155 non-null    int64  \n",
      " 2   Happiness.Score                155 non-null    float64\n",
      " 3   Whisker.high                   155 non-null    float64\n",
      " 4   Whisker.low                    155 non-null    float64\n",
      " 5   Economy..GDP.per.Capita.       155 non-null    float64\n",
      " 6   Family                         155 non-null    float64\n",
      " 7   Health..Life.Expectancy.       155 non-null    float64\n",
      " 8   Freedom                        155 non-null    float64\n",
      " 9   Generosity                     155 non-null    float64\n",
      " 10  Trust..Government.Corruption.  155 non-null    float64\n",
      " 11  Dystopia.Residual              155 non-null    float64\n",
      "dtypes: float64(10), int64(1), object(1)\n",
      "memory usage: 14.7+ KB\n",
      "None\n"
     ]
    }
   ],
   "source": [
    "data_2017_csv = '../data/2017.csv'\n",
    "data_2017 = pd.read_csv(data_2017_csv, delimiter=',')\n",
    "print(data_2017.info())"
   ]
  },
  {
   "cell_type": "markdown",
   "metadata": {},
   "source": [
    "El dataset de 2017 contiene 155 entradas y 12 columnas.\n",
    "Algunas de las columnas están nombradas de manera diferente, como Whisker.high y Whisker.low, que probablemente se refieren a los intervalos de confianza del puntaje de felicidad, aunque están nombradas de forma distinta en comparación con el dataset de 2016.\n",
    "Además no hay columnas con valores nulos."
   ]
  },
  {
   "cell_type": "code",
   "execution_count": 9,
   "metadata": {},
   "outputs": [
    {
     "data": {
      "text/html": [
       "<div>\n",
       "<style scoped>\n",
       "    .dataframe tbody tr th:only-of-type {\n",
       "        vertical-align: middle;\n",
       "    }\n",
       "\n",
       "    .dataframe tbody tr th {\n",
       "        vertical-align: top;\n",
       "    }\n",
       "\n",
       "    .dataframe thead th {\n",
       "        text-align: right;\n",
       "    }\n",
       "</style>\n",
       "<table border=\"1\" class=\"dataframe\">\n",
       "  <thead>\n",
       "    <tr style=\"text-align: right;\">\n",
       "      <th></th>\n",
       "      <th>Country</th>\n",
       "      <th>Happiness.Rank</th>\n",
       "      <th>Happiness.Score</th>\n",
       "      <th>Whisker.high</th>\n",
       "      <th>Whisker.low</th>\n",
       "      <th>Economy..GDP.per.Capita.</th>\n",
       "      <th>Family</th>\n",
       "      <th>Health..Life.Expectancy.</th>\n",
       "      <th>Freedom</th>\n",
       "      <th>Generosity</th>\n",
       "      <th>Trust..Government.Corruption.</th>\n",
       "      <th>Dystopia.Residual</th>\n",
       "    </tr>\n",
       "  </thead>\n",
       "  <tbody>\n",
       "    <tr>\n",
       "      <th>0</th>\n",
       "      <td>Norway</td>\n",
       "      <td>1</td>\n",
       "      <td>7.537</td>\n",
       "      <td>7.594445</td>\n",
       "      <td>7.479556</td>\n",
       "      <td>1.616463</td>\n",
       "      <td>1.533524</td>\n",
       "      <td>0.796667</td>\n",
       "      <td>0.635423</td>\n",
       "      <td>0.362012</td>\n",
       "      <td>0.315964</td>\n",
       "      <td>2.277027</td>\n",
       "    </tr>\n",
       "    <tr>\n",
       "      <th>1</th>\n",
       "      <td>Denmark</td>\n",
       "      <td>2</td>\n",
       "      <td>7.522</td>\n",
       "      <td>7.581728</td>\n",
       "      <td>7.462272</td>\n",
       "      <td>1.482383</td>\n",
       "      <td>1.551122</td>\n",
       "      <td>0.792566</td>\n",
       "      <td>0.626007</td>\n",
       "      <td>0.355280</td>\n",
       "      <td>0.400770</td>\n",
       "      <td>2.313707</td>\n",
       "    </tr>\n",
       "    <tr>\n",
       "      <th>2</th>\n",
       "      <td>Iceland</td>\n",
       "      <td>3</td>\n",
       "      <td>7.504</td>\n",
       "      <td>7.622030</td>\n",
       "      <td>7.385970</td>\n",
       "      <td>1.480633</td>\n",
       "      <td>1.610574</td>\n",
       "      <td>0.833552</td>\n",
       "      <td>0.627163</td>\n",
       "      <td>0.475540</td>\n",
       "      <td>0.153527</td>\n",
       "      <td>2.322715</td>\n",
       "    </tr>\n",
       "    <tr>\n",
       "      <th>3</th>\n",
       "      <td>Switzerland</td>\n",
       "      <td>4</td>\n",
       "      <td>7.494</td>\n",
       "      <td>7.561772</td>\n",
       "      <td>7.426227</td>\n",
       "      <td>1.564980</td>\n",
       "      <td>1.516912</td>\n",
       "      <td>0.858131</td>\n",
       "      <td>0.620071</td>\n",
       "      <td>0.290549</td>\n",
       "      <td>0.367007</td>\n",
       "      <td>2.276716</td>\n",
       "    </tr>\n",
       "    <tr>\n",
       "      <th>4</th>\n",
       "      <td>Finland</td>\n",
       "      <td>5</td>\n",
       "      <td>7.469</td>\n",
       "      <td>7.527542</td>\n",
       "      <td>7.410458</td>\n",
       "      <td>1.443572</td>\n",
       "      <td>1.540247</td>\n",
       "      <td>0.809158</td>\n",
       "      <td>0.617951</td>\n",
       "      <td>0.245483</td>\n",
       "      <td>0.382612</td>\n",
       "      <td>2.430182</td>\n",
       "    </tr>\n",
       "  </tbody>\n",
       "</table>\n",
       "</div>"
      ],
      "text/plain": [
       "       Country  Happiness.Rank  Happiness.Score  Whisker.high  Whisker.low  \\\n",
       "0       Norway               1            7.537      7.594445     7.479556   \n",
       "1      Denmark               2            7.522      7.581728     7.462272   \n",
       "2      Iceland               3            7.504      7.622030     7.385970   \n",
       "3  Switzerland               4            7.494      7.561772     7.426227   \n",
       "4      Finland               5            7.469      7.527542     7.410458   \n",
       "\n",
       "   Economy..GDP.per.Capita.    Family  Health..Life.Expectancy.   Freedom  \\\n",
       "0                  1.616463  1.533524                  0.796667  0.635423   \n",
       "1                  1.482383  1.551122                  0.792566  0.626007   \n",
       "2                  1.480633  1.610574                  0.833552  0.627163   \n",
       "3                  1.564980  1.516912                  0.858131  0.620071   \n",
       "4                  1.443572  1.540247                  0.809158  0.617951   \n",
       "\n",
       "   Generosity  Trust..Government.Corruption.  Dystopia.Residual  \n",
       "0    0.362012                       0.315964           2.277027  \n",
       "1    0.355280                       0.400770           2.313707  \n",
       "2    0.475540                       0.153527           2.322715  \n",
       "3    0.290549                       0.367007           2.276716  \n",
       "4    0.245483                       0.382612           2.430182  "
      ]
     },
     "execution_count": 9,
     "metadata": {},
     "output_type": "execute_result"
    }
   ],
   "source": [
    "data_2017.head(5)"
   ]
  },
  {
   "cell_type": "markdown",
   "metadata": {},
   "source": [
    "Se muestra la información de los primeros cinco países. Las variables clave, como Happiness Score, Economy (GDP per Capita), y Dystopia Residual, siguen presentes."
   ]
  },
  {
   "cell_type": "code",
   "execution_count": 10,
   "metadata": {},
   "outputs": [
    {
     "data": {
      "text/html": [
       "<div>\n",
       "<style scoped>\n",
       "    .dataframe tbody tr th:only-of-type {\n",
       "        vertical-align: middle;\n",
       "    }\n",
       "\n",
       "    .dataframe tbody tr th {\n",
       "        vertical-align: top;\n",
       "    }\n",
       "\n",
       "    .dataframe thead th {\n",
       "        text-align: right;\n",
       "    }\n",
       "</style>\n",
       "<table border=\"1\" class=\"dataframe\">\n",
       "  <thead>\n",
       "    <tr style=\"text-align: right;\">\n",
       "      <th></th>\n",
       "      <th>count</th>\n",
       "      <th>mean</th>\n",
       "      <th>std</th>\n",
       "      <th>min</th>\n",
       "      <th>25%</th>\n",
       "      <th>50%</th>\n",
       "      <th>75%</th>\n",
       "      <th>max</th>\n",
       "    </tr>\n",
       "  </thead>\n",
       "  <tbody>\n",
       "    <tr>\n",
       "      <th>Happiness.Rank</th>\n",
       "      <td>155.0</td>\n",
       "      <td>78.000000</td>\n",
       "      <td>44.888751</td>\n",
       "      <td>1.000000</td>\n",
       "      <td>39.500000</td>\n",
       "      <td>78.000000</td>\n",
       "      <td>116.500000</td>\n",
       "      <td>155.000000</td>\n",
       "    </tr>\n",
       "    <tr>\n",
       "      <th>Happiness.Score</th>\n",
       "      <td>155.0</td>\n",
       "      <td>5.354019</td>\n",
       "      <td>1.131230</td>\n",
       "      <td>2.693000</td>\n",
       "      <td>4.505500</td>\n",
       "      <td>5.279000</td>\n",
       "      <td>6.101500</td>\n",
       "      <td>7.537000</td>\n",
       "    </tr>\n",
       "    <tr>\n",
       "      <th>Whisker.high</th>\n",
       "      <td>155.0</td>\n",
       "      <td>5.452326</td>\n",
       "      <td>1.118542</td>\n",
       "      <td>2.864884</td>\n",
       "      <td>4.608172</td>\n",
       "      <td>5.370032</td>\n",
       "      <td>6.194600</td>\n",
       "      <td>7.622030</td>\n",
       "    </tr>\n",
       "    <tr>\n",
       "      <th>Whisker.low</th>\n",
       "      <td>155.0</td>\n",
       "      <td>5.255713</td>\n",
       "      <td>1.145030</td>\n",
       "      <td>2.521116</td>\n",
       "      <td>4.374955</td>\n",
       "      <td>5.193152</td>\n",
       "      <td>6.006527</td>\n",
       "      <td>7.479556</td>\n",
       "    </tr>\n",
       "    <tr>\n",
       "      <th>Economy..GDP.per.Capita.</th>\n",
       "      <td>155.0</td>\n",
       "      <td>0.984718</td>\n",
       "      <td>0.420793</td>\n",
       "      <td>0.000000</td>\n",
       "      <td>0.663371</td>\n",
       "      <td>1.064578</td>\n",
       "      <td>1.318027</td>\n",
       "      <td>1.870766</td>\n",
       "    </tr>\n",
       "    <tr>\n",
       "      <th>Family</th>\n",
       "      <td>155.0</td>\n",
       "      <td>1.188898</td>\n",
       "      <td>0.287263</td>\n",
       "      <td>0.000000</td>\n",
       "      <td>1.042635</td>\n",
       "      <td>1.253918</td>\n",
       "      <td>1.414316</td>\n",
       "      <td>1.610574</td>\n",
       "    </tr>\n",
       "    <tr>\n",
       "      <th>Health..Life.Expectancy.</th>\n",
       "      <td>155.0</td>\n",
       "      <td>0.551341</td>\n",
       "      <td>0.237073</td>\n",
       "      <td>0.000000</td>\n",
       "      <td>0.369866</td>\n",
       "      <td>0.606042</td>\n",
       "      <td>0.723008</td>\n",
       "      <td>0.949492</td>\n",
       "    </tr>\n",
       "    <tr>\n",
       "      <th>Freedom</th>\n",
       "      <td>155.0</td>\n",
       "      <td>0.408786</td>\n",
       "      <td>0.149997</td>\n",
       "      <td>0.000000</td>\n",
       "      <td>0.303677</td>\n",
       "      <td>0.437454</td>\n",
       "      <td>0.516561</td>\n",
       "      <td>0.658249</td>\n",
       "    </tr>\n",
       "    <tr>\n",
       "      <th>Generosity</th>\n",
       "      <td>155.0</td>\n",
       "      <td>0.246883</td>\n",
       "      <td>0.134780</td>\n",
       "      <td>0.000000</td>\n",
       "      <td>0.154106</td>\n",
       "      <td>0.231538</td>\n",
       "      <td>0.323762</td>\n",
       "      <td>0.838075</td>\n",
       "    </tr>\n",
       "    <tr>\n",
       "      <th>Trust..Government.Corruption.</th>\n",
       "      <td>155.0</td>\n",
       "      <td>0.123120</td>\n",
       "      <td>0.101661</td>\n",
       "      <td>0.000000</td>\n",
       "      <td>0.057271</td>\n",
       "      <td>0.089848</td>\n",
       "      <td>0.153296</td>\n",
       "      <td>0.464308</td>\n",
       "    </tr>\n",
       "    <tr>\n",
       "      <th>Dystopia.Residual</th>\n",
       "      <td>155.0</td>\n",
       "      <td>1.850238</td>\n",
       "      <td>0.500028</td>\n",
       "      <td>0.377914</td>\n",
       "      <td>1.591291</td>\n",
       "      <td>1.832910</td>\n",
       "      <td>2.144654</td>\n",
       "      <td>3.117485</td>\n",
       "    </tr>\n",
       "  </tbody>\n",
       "</table>\n",
       "</div>"
      ],
      "text/plain": [
       "                               count       mean        std       min  \\\n",
       "Happiness.Rank                 155.0  78.000000  44.888751  1.000000   \n",
       "Happiness.Score                155.0   5.354019   1.131230  2.693000   \n",
       "Whisker.high                   155.0   5.452326   1.118542  2.864884   \n",
       "Whisker.low                    155.0   5.255713   1.145030  2.521116   \n",
       "Economy..GDP.per.Capita.       155.0   0.984718   0.420793  0.000000   \n",
       "Family                         155.0   1.188898   0.287263  0.000000   \n",
       "Health..Life.Expectancy.       155.0   0.551341   0.237073  0.000000   \n",
       "Freedom                        155.0   0.408786   0.149997  0.000000   \n",
       "Generosity                     155.0   0.246883   0.134780  0.000000   \n",
       "Trust..Government.Corruption.  155.0   0.123120   0.101661  0.000000   \n",
       "Dystopia.Residual              155.0   1.850238   0.500028  0.377914   \n",
       "\n",
       "                                     25%        50%         75%         max  \n",
       "Happiness.Rank                 39.500000  78.000000  116.500000  155.000000  \n",
       "Happiness.Score                 4.505500   5.279000    6.101500    7.537000  \n",
       "Whisker.high                    4.608172   5.370032    6.194600    7.622030  \n",
       "Whisker.low                     4.374955   5.193152    6.006527    7.479556  \n",
       "Economy..GDP.per.Capita.        0.663371   1.064578    1.318027    1.870766  \n",
       "Family                          1.042635   1.253918    1.414316    1.610574  \n",
       "Health..Life.Expectancy.        0.369866   0.606042    0.723008    0.949492  \n",
       "Freedom                         0.303677   0.437454    0.516561    0.658249  \n",
       "Generosity                      0.154106   0.231538    0.323762    0.838075  \n",
       "Trust..Government.Corruption.   0.057271   0.089848    0.153296    0.464308  \n",
       "Dystopia.Residual               1.591291   1.832910    2.144654    3.117485  "
      ]
     },
     "execution_count": 10,
     "metadata": {},
     "output_type": "execute_result"
    }
   ],
   "source": [
    "data_2017.describe().T"
   ]
  },
  {
   "cell_type": "markdown",
   "metadata": {},
   "source": [
    "Observamos en el análisis estadístico que el puntaje promedio de felicidad en 2017 es 5.34, algo más bajo que en 2016 (5.38) y 2015 (5.53)."
   ]
  },
  {
   "cell_type": "markdown",
   "metadata": {},
   "source": [
    "Leer datos 2018."
   ]
  },
  {
   "cell_type": "code",
   "execution_count": 11,
   "metadata": {},
   "outputs": [
    {
     "name": "stdout",
     "output_type": "stream",
     "text": [
      "<class 'pandas.core.frame.DataFrame'>\n",
      "RangeIndex: 156 entries, 0 to 155\n",
      "Data columns (total 9 columns):\n",
      " #   Column                        Non-Null Count  Dtype  \n",
      "---  ------                        --------------  -----  \n",
      " 0   Overall rank                  156 non-null    int64  \n",
      " 1   Country or region             156 non-null    object \n",
      " 2   Score                         156 non-null    float64\n",
      " 3   GDP per capita                156 non-null    float64\n",
      " 4   Social support                156 non-null    float64\n",
      " 5   Healthy life expectancy       156 non-null    float64\n",
      " 6   Freedom to make life choices  156 non-null    float64\n",
      " 7   Generosity                    156 non-null    float64\n",
      " 8   Perceptions of corruption     155 non-null    float64\n",
      "dtypes: float64(7), int64(1), object(1)\n",
      "memory usage: 11.1+ KB\n",
      "None\n"
     ]
    }
   ],
   "source": [
    "data_2018_csv = '../data/2018.csv'\n",
    "data_2018 = pd.read_csv(data_2018_csv, delimiter=',')\n",
    "print(data_2018.info())"
   ]
  },
  {
   "cell_type": "markdown",
   "metadata": {},
   "source": [
    "El dataset de 2018 contiene 156 entradas y 9 columnas, menos columnas que los datasets de los años anteriores.\n",
    "\n",
    "Además observamos que tampoco hay valores nulos en las columnas."
   ]
  },
  {
   "cell_type": "code",
   "execution_count": 12,
   "metadata": {},
   "outputs": [
    {
     "data": {
      "text/html": [
       "<div>\n",
       "<style scoped>\n",
       "    .dataframe tbody tr th:only-of-type {\n",
       "        vertical-align: middle;\n",
       "    }\n",
       "\n",
       "    .dataframe tbody tr th {\n",
       "        vertical-align: top;\n",
       "    }\n",
       "\n",
       "    .dataframe thead th {\n",
       "        text-align: right;\n",
       "    }\n",
       "</style>\n",
       "<table border=\"1\" class=\"dataframe\">\n",
       "  <thead>\n",
       "    <tr style=\"text-align: right;\">\n",
       "      <th></th>\n",
       "      <th>Overall rank</th>\n",
       "      <th>Country or region</th>\n",
       "      <th>Score</th>\n",
       "      <th>GDP per capita</th>\n",
       "      <th>Social support</th>\n",
       "      <th>Healthy life expectancy</th>\n",
       "      <th>Freedom to make life choices</th>\n",
       "      <th>Generosity</th>\n",
       "      <th>Perceptions of corruption</th>\n",
       "    </tr>\n",
       "  </thead>\n",
       "  <tbody>\n",
       "    <tr>\n",
       "      <th>0</th>\n",
       "      <td>1</td>\n",
       "      <td>Finland</td>\n",
       "      <td>7.632</td>\n",
       "      <td>1.305</td>\n",
       "      <td>1.592</td>\n",
       "      <td>0.874</td>\n",
       "      <td>0.681</td>\n",
       "      <td>0.202</td>\n",
       "      <td>0.393</td>\n",
       "    </tr>\n",
       "    <tr>\n",
       "      <th>1</th>\n",
       "      <td>2</td>\n",
       "      <td>Norway</td>\n",
       "      <td>7.594</td>\n",
       "      <td>1.456</td>\n",
       "      <td>1.582</td>\n",
       "      <td>0.861</td>\n",
       "      <td>0.686</td>\n",
       "      <td>0.286</td>\n",
       "      <td>0.340</td>\n",
       "    </tr>\n",
       "    <tr>\n",
       "      <th>2</th>\n",
       "      <td>3</td>\n",
       "      <td>Denmark</td>\n",
       "      <td>7.555</td>\n",
       "      <td>1.351</td>\n",
       "      <td>1.590</td>\n",
       "      <td>0.868</td>\n",
       "      <td>0.683</td>\n",
       "      <td>0.284</td>\n",
       "      <td>0.408</td>\n",
       "    </tr>\n",
       "    <tr>\n",
       "      <th>3</th>\n",
       "      <td>4</td>\n",
       "      <td>Iceland</td>\n",
       "      <td>7.495</td>\n",
       "      <td>1.343</td>\n",
       "      <td>1.644</td>\n",
       "      <td>0.914</td>\n",
       "      <td>0.677</td>\n",
       "      <td>0.353</td>\n",
       "      <td>0.138</td>\n",
       "    </tr>\n",
       "    <tr>\n",
       "      <th>4</th>\n",
       "      <td>5</td>\n",
       "      <td>Switzerland</td>\n",
       "      <td>7.487</td>\n",
       "      <td>1.420</td>\n",
       "      <td>1.549</td>\n",
       "      <td>0.927</td>\n",
       "      <td>0.660</td>\n",
       "      <td>0.256</td>\n",
       "      <td>0.357</td>\n",
       "    </tr>\n",
       "  </tbody>\n",
       "</table>\n",
       "</div>"
      ],
      "text/plain": [
       "   Overall rank Country or region  Score  GDP per capita  Social support  \\\n",
       "0             1           Finland  7.632           1.305           1.592   \n",
       "1             2            Norway  7.594           1.456           1.582   \n",
       "2             3           Denmark  7.555           1.351           1.590   \n",
       "3             4           Iceland  7.495           1.343           1.644   \n",
       "4             5       Switzerland  7.487           1.420           1.549   \n",
       "\n",
       "   Healthy life expectancy  Freedom to make life choices  Generosity  \\\n",
       "0                    0.874                         0.681       0.202   \n",
       "1                    0.861                         0.686       0.286   \n",
       "2                    0.868                         0.683       0.284   \n",
       "3                    0.914                         0.677       0.353   \n",
       "4                    0.927                         0.660       0.256   \n",
       "\n",
       "   Perceptions of corruption  \n",
       "0                      0.393  \n",
       "1                      0.340  \n",
       "2                      0.408  \n",
       "3                      0.138  \n",
       "4                      0.357  "
      ]
     },
     "execution_count": 12,
     "metadata": {},
     "output_type": "execute_result"
    }
   ],
   "source": [
    "data_2018.head(5)"
   ]
  },
  {
   "cell_type": "code",
   "execution_count": 13,
   "metadata": {},
   "outputs": [
    {
     "data": {
      "text/html": [
       "<div>\n",
       "<style scoped>\n",
       "    .dataframe tbody tr th:only-of-type {\n",
       "        vertical-align: middle;\n",
       "    }\n",
       "\n",
       "    .dataframe tbody tr th {\n",
       "        vertical-align: top;\n",
       "    }\n",
       "\n",
       "    .dataframe thead th {\n",
       "        text-align: right;\n",
       "    }\n",
       "</style>\n",
       "<table border=\"1\" class=\"dataframe\">\n",
       "  <thead>\n",
       "    <tr style=\"text-align: right;\">\n",
       "      <th></th>\n",
       "      <th>count</th>\n",
       "      <th>mean</th>\n",
       "      <th>std</th>\n",
       "      <th>min</th>\n",
       "      <th>25%</th>\n",
       "      <th>50%</th>\n",
       "      <th>75%</th>\n",
       "      <th>max</th>\n",
       "    </tr>\n",
       "  </thead>\n",
       "  <tbody>\n",
       "    <tr>\n",
       "      <th>Overall rank</th>\n",
       "      <td>156.0</td>\n",
       "      <td>78.500000</td>\n",
       "      <td>45.177428</td>\n",
       "      <td>1.000</td>\n",
       "      <td>39.75000</td>\n",
       "      <td>78.5000</td>\n",
       "      <td>117.25000</td>\n",
       "      <td>156.000</td>\n",
       "    </tr>\n",
       "    <tr>\n",
       "      <th>Score</th>\n",
       "      <td>156.0</td>\n",
       "      <td>5.375917</td>\n",
       "      <td>1.119506</td>\n",
       "      <td>2.905</td>\n",
       "      <td>4.45375</td>\n",
       "      <td>5.3780</td>\n",
       "      <td>6.16850</td>\n",
       "      <td>7.632</td>\n",
       "    </tr>\n",
       "    <tr>\n",
       "      <th>GDP per capita</th>\n",
       "      <td>156.0</td>\n",
       "      <td>0.891449</td>\n",
       "      <td>0.391921</td>\n",
       "      <td>0.000</td>\n",
       "      <td>0.61625</td>\n",
       "      <td>0.9495</td>\n",
       "      <td>1.19775</td>\n",
       "      <td>2.096</td>\n",
       "    </tr>\n",
       "    <tr>\n",
       "      <th>Social support</th>\n",
       "      <td>156.0</td>\n",
       "      <td>1.213237</td>\n",
       "      <td>0.302372</td>\n",
       "      <td>0.000</td>\n",
       "      <td>1.06675</td>\n",
       "      <td>1.2550</td>\n",
       "      <td>1.46300</td>\n",
       "      <td>1.644</td>\n",
       "    </tr>\n",
       "    <tr>\n",
       "      <th>Healthy life expectancy</th>\n",
       "      <td>156.0</td>\n",
       "      <td>0.597346</td>\n",
       "      <td>0.247579</td>\n",
       "      <td>0.000</td>\n",
       "      <td>0.42225</td>\n",
       "      <td>0.6440</td>\n",
       "      <td>0.77725</td>\n",
       "      <td>1.030</td>\n",
       "    </tr>\n",
       "    <tr>\n",
       "      <th>Freedom to make life choices</th>\n",
       "      <td>156.0</td>\n",
       "      <td>0.454506</td>\n",
       "      <td>0.162424</td>\n",
       "      <td>0.000</td>\n",
       "      <td>0.35600</td>\n",
       "      <td>0.4870</td>\n",
       "      <td>0.57850</td>\n",
       "      <td>0.724</td>\n",
       "    </tr>\n",
       "    <tr>\n",
       "      <th>Generosity</th>\n",
       "      <td>156.0</td>\n",
       "      <td>0.181006</td>\n",
       "      <td>0.098471</td>\n",
       "      <td>0.000</td>\n",
       "      <td>0.10950</td>\n",
       "      <td>0.1740</td>\n",
       "      <td>0.23900</td>\n",
       "      <td>0.598</td>\n",
       "    </tr>\n",
       "    <tr>\n",
       "      <th>Perceptions of corruption</th>\n",
       "      <td>155.0</td>\n",
       "      <td>0.112000</td>\n",
       "      <td>0.096492</td>\n",
       "      <td>0.000</td>\n",
       "      <td>0.05100</td>\n",
       "      <td>0.0820</td>\n",
       "      <td>0.13700</td>\n",
       "      <td>0.457</td>\n",
       "    </tr>\n",
       "  </tbody>\n",
       "</table>\n",
       "</div>"
      ],
      "text/plain": [
       "                              count       mean        std    min       25%  \\\n",
       "Overall rank                  156.0  78.500000  45.177428  1.000  39.75000   \n",
       "Score                         156.0   5.375917   1.119506  2.905   4.45375   \n",
       "GDP per capita                156.0   0.891449   0.391921  0.000   0.61625   \n",
       "Social support                156.0   1.213237   0.302372  0.000   1.06675   \n",
       "Healthy life expectancy       156.0   0.597346   0.247579  0.000   0.42225   \n",
       "Freedom to make life choices  156.0   0.454506   0.162424  0.000   0.35600   \n",
       "Generosity                    156.0   0.181006   0.098471  0.000   0.10950   \n",
       "Perceptions of corruption     155.0   0.112000   0.096492  0.000   0.05100   \n",
       "\n",
       "                                  50%        75%      max  \n",
       "Overall rank                  78.5000  117.25000  156.000  \n",
       "Score                          5.3780    6.16850    7.632  \n",
       "GDP per capita                 0.9495    1.19775    2.096  \n",
       "Social support                 1.2550    1.46300    1.644  \n",
       "Healthy life expectancy        0.6440    0.77725    1.030  \n",
       "Freedom to make life choices   0.4870    0.57850    0.724  \n",
       "Generosity                     0.1740    0.23900    0.598  \n",
       "Perceptions of corruption      0.0820    0.13700    0.457  "
      ]
     },
     "execution_count": 13,
     "metadata": {},
     "output_type": "execute_result"
    }
   ],
   "source": [
    "data_2018.describe().T"
   ]
  },
  {
   "cell_type": "markdown",
   "metadata": {},
   "source": [
    "Las estadísticas de resumen muestran que el puntaje de felicidad promedio en 2018 es de 5.37, ligeramente superior al de 2017 (5.34), pero inferior al de años anteriores como 2016 y 2015.\n",
    "El GDP per capita tiene un rango amplio, con un valor máximo de 2.09 y un mínimo de 0.0, lo que podría sugerir diferencias significativas entre países.\n",
    "La columna Perceptions of corruption tiene algunos valores nulos, pero el resto de las variables están completas."
   ]
  },
  {
   "cell_type": "markdown",
   "metadata": {},
   "source": [
    "Leer datos 2019."
   ]
  },
  {
   "cell_type": "code",
   "execution_count": 14,
   "metadata": {},
   "outputs": [
    {
     "name": "stdout",
     "output_type": "stream",
     "text": [
      "<class 'pandas.core.frame.DataFrame'>\n",
      "RangeIndex: 156 entries, 0 to 155\n",
      "Data columns (total 9 columns):\n",
      " #   Column                        Non-Null Count  Dtype  \n",
      "---  ------                        --------------  -----  \n",
      " 0   Overall rank                  156 non-null    int64  \n",
      " 1   Country or region             156 non-null    object \n",
      " 2   Score                         156 non-null    float64\n",
      " 3   GDP per capita                156 non-null    float64\n",
      " 4   Social support                156 non-null    float64\n",
      " 5   Healthy life expectancy       156 non-null    float64\n",
      " 6   Freedom to make life choices  156 non-null    float64\n",
      " 7   Generosity                    156 non-null    float64\n",
      " 8   Perceptions of corruption     156 non-null    float64\n",
      "dtypes: float64(7), int64(1), object(1)\n",
      "memory usage: 11.1+ KB\n",
      "None\n"
     ]
    }
   ],
   "source": [
    "data_2019_csv = '../data/2019.csv'\n",
    "data_2019 = pd.read_csv(data_2019_csv, delimiter=',')\n",
    "print(data_2019.info())"
   ]
  },
  {
   "cell_type": "markdown",
   "metadata": {},
   "source": [
    "El dataset de 2019 contiene 156 entradas y 9 columnas. Además no hay valores nulos en nunguna columna."
   ]
  },
  {
   "cell_type": "code",
   "execution_count": 15,
   "metadata": {},
   "outputs": [
    {
     "data": {
      "text/html": [
       "<div>\n",
       "<style scoped>\n",
       "    .dataframe tbody tr th:only-of-type {\n",
       "        vertical-align: middle;\n",
       "    }\n",
       "\n",
       "    .dataframe tbody tr th {\n",
       "        vertical-align: top;\n",
       "    }\n",
       "\n",
       "    .dataframe thead th {\n",
       "        text-align: right;\n",
       "    }\n",
       "</style>\n",
       "<table border=\"1\" class=\"dataframe\">\n",
       "  <thead>\n",
       "    <tr style=\"text-align: right;\">\n",
       "      <th></th>\n",
       "      <th>Overall rank</th>\n",
       "      <th>Country or region</th>\n",
       "      <th>Score</th>\n",
       "      <th>GDP per capita</th>\n",
       "      <th>Social support</th>\n",
       "      <th>Healthy life expectancy</th>\n",
       "      <th>Freedom to make life choices</th>\n",
       "      <th>Generosity</th>\n",
       "      <th>Perceptions of corruption</th>\n",
       "    </tr>\n",
       "  </thead>\n",
       "  <tbody>\n",
       "    <tr>\n",
       "      <th>0</th>\n",
       "      <td>1</td>\n",
       "      <td>Finland</td>\n",
       "      <td>7.769</td>\n",
       "      <td>1.340</td>\n",
       "      <td>1.587</td>\n",
       "      <td>0.986</td>\n",
       "      <td>0.596</td>\n",
       "      <td>0.153</td>\n",
       "      <td>0.393</td>\n",
       "    </tr>\n",
       "    <tr>\n",
       "      <th>1</th>\n",
       "      <td>2</td>\n",
       "      <td>Denmark</td>\n",
       "      <td>7.600</td>\n",
       "      <td>1.383</td>\n",
       "      <td>1.573</td>\n",
       "      <td>0.996</td>\n",
       "      <td>0.592</td>\n",
       "      <td>0.252</td>\n",
       "      <td>0.410</td>\n",
       "    </tr>\n",
       "    <tr>\n",
       "      <th>2</th>\n",
       "      <td>3</td>\n",
       "      <td>Norway</td>\n",
       "      <td>7.554</td>\n",
       "      <td>1.488</td>\n",
       "      <td>1.582</td>\n",
       "      <td>1.028</td>\n",
       "      <td>0.603</td>\n",
       "      <td>0.271</td>\n",
       "      <td>0.341</td>\n",
       "    </tr>\n",
       "    <tr>\n",
       "      <th>3</th>\n",
       "      <td>4</td>\n",
       "      <td>Iceland</td>\n",
       "      <td>7.494</td>\n",
       "      <td>1.380</td>\n",
       "      <td>1.624</td>\n",
       "      <td>1.026</td>\n",
       "      <td>0.591</td>\n",
       "      <td>0.354</td>\n",
       "      <td>0.118</td>\n",
       "    </tr>\n",
       "    <tr>\n",
       "      <th>4</th>\n",
       "      <td>5</td>\n",
       "      <td>Netherlands</td>\n",
       "      <td>7.488</td>\n",
       "      <td>1.396</td>\n",
       "      <td>1.522</td>\n",
       "      <td>0.999</td>\n",
       "      <td>0.557</td>\n",
       "      <td>0.322</td>\n",
       "      <td>0.298</td>\n",
       "    </tr>\n",
       "  </tbody>\n",
       "</table>\n",
       "</div>"
      ],
      "text/plain": [
       "   Overall rank Country or region  Score  GDP per capita  Social support  \\\n",
       "0             1           Finland  7.769           1.340           1.587   \n",
       "1             2           Denmark  7.600           1.383           1.573   \n",
       "2             3            Norway  7.554           1.488           1.582   \n",
       "3             4           Iceland  7.494           1.380           1.624   \n",
       "4             5       Netherlands  7.488           1.396           1.522   \n",
       "\n",
       "   Healthy life expectancy  Freedom to make life choices  Generosity  \\\n",
       "0                    0.986                         0.596       0.153   \n",
       "1                    0.996                         0.592       0.252   \n",
       "2                    1.028                         0.603       0.271   \n",
       "3                    1.026                         0.591       0.354   \n",
       "4                    0.999                         0.557       0.322   \n",
       "\n",
       "   Perceptions of corruption  \n",
       "0                      0.393  \n",
       "1                      0.410  \n",
       "2                      0.341  \n",
       "3                      0.118  \n",
       "4                      0.298  "
      ]
     },
     "execution_count": 15,
     "metadata": {},
     "output_type": "execute_result"
    }
   ],
   "source": [
    "data_2019.head(5)"
   ]
  },
  {
   "cell_type": "markdown",
   "metadata": {},
   "source": [
    "Se muestran los cinco países mejor rankeados en términos de felicidad, con Finlandia encabezando la lista con un puntaje de 7.769."
   ]
  },
  {
   "cell_type": "code",
   "execution_count": 16,
   "metadata": {},
   "outputs": [
    {
     "data": {
      "text/html": [
       "<div>\n",
       "<style scoped>\n",
       "    .dataframe tbody tr th:only-of-type {\n",
       "        vertical-align: middle;\n",
       "    }\n",
       "\n",
       "    .dataframe tbody tr th {\n",
       "        vertical-align: top;\n",
       "    }\n",
       "\n",
       "    .dataframe thead th {\n",
       "        text-align: right;\n",
       "    }\n",
       "</style>\n",
       "<table border=\"1\" class=\"dataframe\">\n",
       "  <thead>\n",
       "    <tr style=\"text-align: right;\">\n",
       "      <th></th>\n",
       "      <th>count</th>\n",
       "      <th>mean</th>\n",
       "      <th>std</th>\n",
       "      <th>min</th>\n",
       "      <th>25%</th>\n",
       "      <th>50%</th>\n",
       "      <th>75%</th>\n",
       "      <th>max</th>\n",
       "    </tr>\n",
       "  </thead>\n",
       "  <tbody>\n",
       "    <tr>\n",
       "      <th>Overall rank</th>\n",
       "      <td>156.0</td>\n",
       "      <td>78.500000</td>\n",
       "      <td>45.177428</td>\n",
       "      <td>1.000</td>\n",
       "      <td>39.75000</td>\n",
       "      <td>78.5000</td>\n",
       "      <td>117.25000</td>\n",
       "      <td>156.000</td>\n",
       "    </tr>\n",
       "    <tr>\n",
       "      <th>Score</th>\n",
       "      <td>156.0</td>\n",
       "      <td>5.407096</td>\n",
       "      <td>1.113120</td>\n",
       "      <td>2.853</td>\n",
       "      <td>4.54450</td>\n",
       "      <td>5.3795</td>\n",
       "      <td>6.18450</td>\n",
       "      <td>7.769</td>\n",
       "    </tr>\n",
       "    <tr>\n",
       "      <th>GDP per capita</th>\n",
       "      <td>156.0</td>\n",
       "      <td>0.905147</td>\n",
       "      <td>0.398389</td>\n",
       "      <td>0.000</td>\n",
       "      <td>0.60275</td>\n",
       "      <td>0.9600</td>\n",
       "      <td>1.23250</td>\n",
       "      <td>1.684</td>\n",
       "    </tr>\n",
       "    <tr>\n",
       "      <th>Social support</th>\n",
       "      <td>156.0</td>\n",
       "      <td>1.208814</td>\n",
       "      <td>0.299191</td>\n",
       "      <td>0.000</td>\n",
       "      <td>1.05575</td>\n",
       "      <td>1.2715</td>\n",
       "      <td>1.45250</td>\n",
       "      <td>1.624</td>\n",
       "    </tr>\n",
       "    <tr>\n",
       "      <th>Healthy life expectancy</th>\n",
       "      <td>156.0</td>\n",
       "      <td>0.725244</td>\n",
       "      <td>0.242124</td>\n",
       "      <td>0.000</td>\n",
       "      <td>0.54775</td>\n",
       "      <td>0.7890</td>\n",
       "      <td>0.88175</td>\n",
       "      <td>1.141</td>\n",
       "    </tr>\n",
       "    <tr>\n",
       "      <th>Freedom to make life choices</th>\n",
       "      <td>156.0</td>\n",
       "      <td>0.392571</td>\n",
       "      <td>0.143289</td>\n",
       "      <td>0.000</td>\n",
       "      <td>0.30800</td>\n",
       "      <td>0.4170</td>\n",
       "      <td>0.50725</td>\n",
       "      <td>0.631</td>\n",
       "    </tr>\n",
       "    <tr>\n",
       "      <th>Generosity</th>\n",
       "      <td>156.0</td>\n",
       "      <td>0.184846</td>\n",
       "      <td>0.095254</td>\n",
       "      <td>0.000</td>\n",
       "      <td>0.10875</td>\n",
       "      <td>0.1775</td>\n",
       "      <td>0.24825</td>\n",
       "      <td>0.566</td>\n",
       "    </tr>\n",
       "    <tr>\n",
       "      <th>Perceptions of corruption</th>\n",
       "      <td>156.0</td>\n",
       "      <td>0.110603</td>\n",
       "      <td>0.094538</td>\n",
       "      <td>0.000</td>\n",
       "      <td>0.04700</td>\n",
       "      <td>0.0855</td>\n",
       "      <td>0.14125</td>\n",
       "      <td>0.453</td>\n",
       "    </tr>\n",
       "  </tbody>\n",
       "</table>\n",
       "</div>"
      ],
      "text/plain": [
       "                              count       mean        std    min       25%  \\\n",
       "Overall rank                  156.0  78.500000  45.177428  1.000  39.75000   \n",
       "Score                         156.0   5.407096   1.113120  2.853   4.54450   \n",
       "GDP per capita                156.0   0.905147   0.398389  0.000   0.60275   \n",
       "Social support                156.0   1.208814   0.299191  0.000   1.05575   \n",
       "Healthy life expectancy       156.0   0.725244   0.242124  0.000   0.54775   \n",
       "Freedom to make life choices  156.0   0.392571   0.143289  0.000   0.30800   \n",
       "Generosity                    156.0   0.184846   0.095254  0.000   0.10875   \n",
       "Perceptions of corruption     156.0   0.110603   0.094538  0.000   0.04700   \n",
       "\n",
       "                                  50%        75%      max  \n",
       "Overall rank                  78.5000  117.25000  156.000  \n",
       "Score                          5.3795    6.18450    7.769  \n",
       "GDP per capita                 0.9600    1.23250    1.684  \n",
       "Social support                 1.2715    1.45250    1.624  \n",
       "Healthy life expectancy        0.7890    0.88175    1.141  \n",
       "Freedom to make life choices   0.4170    0.50725    0.631  \n",
       "Generosity                     0.1775    0.24825    0.566  \n",
       "Perceptions of corruption      0.0855    0.14125    0.453  "
      ]
     },
     "execution_count": 16,
     "metadata": {},
     "output_type": "execute_result"
    }
   ],
   "source": [
    "data_2019.describe().T"
   ]
  },
  {
   "cell_type": "markdown",
   "metadata": {},
   "source": [
    "El puntaje promedio de felicidad (Score) en 2019 es 5.41, ligeramente superior al de 2018 (5.37), pero dentro del mismo rango general observado en años anteriores."
   ]
  },
  {
   "cell_type": "markdown",
   "metadata": {},
   "source": [
    "Compraración del número de filas y columnas."
   ]
  },
  {
   "cell_type": "code",
   "execution_count": 17,
   "metadata": {},
   "outputs": [
    {
     "name": "stdout",
     "output_type": "stream",
     "text": [
      "Año 2015: 158 filas, 12 columnas\n",
      "Año 2016: 157 filas, 13 columnas\n",
      "Año 2017: 155 filas, 12 columnas\n",
      "Año 2018: 156 filas, 9 columnas\n",
      "Año 2019: 156 filas, 9 columnas\n"
     ]
    }
   ],
   "source": [
    "for year, data in {2015: data_2015, 2016: data_2016, 2017: data_2017, 2018: data_2018, 2019: data_2019}.items():\n",
    "    print(f\"Año {year}: {data.shape[0]} filas, {data.shape[1]} columnas\")"
   ]
  },
  {
   "cell_type": "markdown",
   "metadata": {},
   "source": [
    "Las columnas de los años 2015 a 2017 son consistentes en cantidad (12 o 13), mientras que en 2018 y 2019 hay menos columnas (9 en total). "
   ]
  },
  {
   "cell_type": "code",
   "execution_count": 18,
   "metadata": {},
   "outputs": [
    {
     "name": "stdout",
     "output_type": "stream",
     "text": [
      "                              2015 2016 2017 2018 2019\n",
      "Dystopia Residual                *    *               \n",
      "Whisker.low                                *          \n",
      "Happiness Score                  *    *               \n",
      "Country or region                               *    *\n",
      "Family                           *    *    *          \n",
      "Economy..GDP.per.Capita.                   *          \n",
      "Happiness.Score                            *          \n",
      "Trust (Government Corruption)    *    *               \n",
      "Economy (GDP per Capita)         *    *               \n",
      "Dystopia.Residual                          *          \n",
      "Generosity                       *    *    *    *    *\n",
      "Trust..Government.Corruption.              *          \n",
      "Overall rank                                    *    *\n",
      "Standard Error                   *                    \n",
      "Region                           *    *               \n",
      "Freedom                          *    *    *          \n",
      "Healthy life expectancy                         *    *\n",
      "Upper Confidence Interval             *               \n",
      "Happiness.Rank                             *          \n",
      "GDP per capita                                  *    *\n",
      "Perceptions of corruption                       *    *\n",
      "Country                          *    *    *          \n",
      "Health (Life Expectancy)         *    *               \n",
      "Lower Confidence Interval             *               \n",
      "Social support                                  *    *\n",
      "Health..Life.Expectancy.                   *          \n",
      "Happiness Rank                   *    *               \n",
      "Freedom to make life choices                    *    *\n",
      "Whisker.high                               *          \n",
      "Score                                           *    *\n"
     ]
    }
   ],
   "source": [
    "dfs = {\n",
    "    2015: data_2015,\n",
    "    2016: data_2016,\n",
    "    2017: data_2017,\n",
    "    2018: data_2018,\n",
    "    2019: data_2019\n",
    "}\n",
    "\n",
    "# Crear un conjunto con todas las columnas únicas de todos los DataFrames\n",
    "all_columns = list(set().union(*(df.columns for df in [data_2015, data_2016, data_2017, data_2018, data_2019])))\n",
    "\n",
    "# Crear un DataFrame de comparación\n",
    "comparison_df = pd.DataFrame({year: [col in df.columns for col in all_columns] for year, df in dfs.items()}, index=all_columns)\n",
    "\n",
    "# Reemplazar True por 'X' y False por vacío\n",
    "comparison_df = comparison_df.replace(True, '*').replace(False, '')\n",
    "\n",
    "# Mostrar el resultado\n",
    "print(comparison_df)\n"
   ]
  },
  {
   "cell_type": "markdown",
   "metadata": {},
   "source": [
    "Algunas columnas están presentes de manera consistente a lo largo de los años, como Country, Happiness Score, GDP per capita, y Generosity.\n",
    "\n",
    "Otras columnas, como Dystopia Residual y Whisker.high, aparecen en algunos años pero no en otros.\n",
    "\n",
    "Las columnas Score y Freedom to make life choices comienzan a aparecer a partir de 2018, lo que refleja la estructura diferente de los datasets más recientes."
   ]
  },
  {
   "cell_type": "markdown",
   "metadata": {},
   "source": [
    "\n",
    "\n",
    "### Normalizar nombre de columnas."
   ]
  },
  {
   "cell_type": "code",
   "execution_count": 19,
   "metadata": {},
   "outputs": [
    {
     "name": "stdout",
     "output_type": "stream",
     "text": [
      "Año 2015: Index(['country', 'region', 'happiness_rank', 'happiness_score',\n",
      "       'standard_error', 'economy_gdp_per_capita', 'family',\n",
      "       'health_life_expectancy', 'freedom', 'trust_government_corruption',\n",
      "       'generosity', 'dystopia_residual'],\n",
      "      dtype='object')\n",
      "Año 2016: Index(['country', 'region', 'happiness_rank', 'happiness_score',\n",
      "       'lower_confidence_interval', 'upper_confidence_interval',\n",
      "       'economy_gdp_per_capita', 'family', 'health_life_expectancy', 'freedom',\n",
      "       'trust_government_corruption', 'generosity', 'dystopia_residual'],\n",
      "      dtype='object')\n",
      "Año 2017: Index(['country', 'happiness_rank', 'happiness_score', 'whisker_high',\n",
      "       'whisker_low', 'economy_gdp_per_capita', 'family',\n",
      "       'health_life_expectancy', 'freedom', 'generosity',\n",
      "       'trust_government_corruption', 'dystopia_residual'],\n",
      "      dtype='object')\n",
      "Año 2018: Index(['overall_rank', 'country_or_region', 'score', 'gdp_per_capita',\n",
      "       'social_support', 'healthy_life_expectancy',\n",
      "       'freedom_to_make_life_choices', 'generosity',\n",
      "       'perceptions_of_corruption'],\n",
      "      dtype='object')\n",
      "Año 2019: Index(['overall_rank', 'country_or_region', 'score', 'gdp_per_capita',\n",
      "       'social_support', 'healthy_life_expectancy',\n",
      "       'freedom_to_make_life_choices', 'generosity',\n",
      "       'perceptions_of_corruption'],\n",
      "      dtype='object')\n"
     ]
    }
   ],
   "source": [
    "import re\n",
    "\n",
    "# Lista de DataFrames que has cargado\n",
    "dataframes = [data_2015, data_2016, data_2017, data_2018, data_2019]\n",
    "\n",
    "# Función para normalizar los nombres de las columnas\n",
    "def clean_column_names(df):\n",
    "    clean_columns = []\n",
    "    for col in df.columns:\n",
    "        # Convertir a minúsculas y reemplazar espacios por guiones bajos\n",
    "        normalized = re.sub(r'[.\\(\\)]', '_', col.replace(' ', '_').lower())\n",
    "        # Eliminar caracteres no alfanuméricos excepto guiones bajos\n",
    "        normalized = re.sub(r'[^a-zA-Z0-9_]', '', normalized)\n",
    "        # Eliminar guiones bajos consecutivos\n",
    "        normalized = re.sub(r'_{2,}', '_', normalized)\n",
    "        # Eliminar guiones bajos al principio o al final\n",
    "        normalized = normalized.strip('_')\n",
    "        # Añadir la columna normalizada a la lista\n",
    "        clean_columns.append(normalized)\n",
    "    # Asignar las columnas limpias al DataFrame\n",
    "    df.columns = clean_columns\n",
    "\n",
    "# Aplicar la función de limpieza a cada DataFrame\n",
    "for df in dataframes:\n",
    "    clean_column_names(df)\n",
    "\n",
    "# Verificar los nombres de las columnas después de la normalización\n",
    "for year, df in zip([2015, 2016, 2017, 2018, 2019], dataframes):\n",
    "    print(f\"Año {year}: {df.columns}\")\n"
   ]
  },
  {
   "cell_type": "markdown",
   "metadata": {},
   "source": [
    "* Se estandarizan los nombres de las columnas eliminando caracteres especiales, reemplazando espacios por guiones bajos, y eliminando guiones bajos consecutivos o al inicio/final.\n",
    "* El código toma los DataFrames data_2015, data_2016, data_2017, data_2018, y data_2019 y aplica la normalización a las columnas de cada uno.\n",
    "* Al final, imprime los nombres de las columnas para cada año, donde podemos verificar que la normalización se ha realizado correctamente."
   ]
  },
  {
   "cell_type": "markdown",
   "metadata": {},
   "source": [
    "### Renombrar las columnas"
   ]
  },
  {
   "cell_type": "markdown",
   "metadata": {},
   "source": [
    "Diccionario names_column para 2015, 2016 y 2017"
   ]
  },
  {
   "cell_type": "code",
   "execution_count": 20,
   "metadata": {},
   "outputs": [],
   "source": [
    "# Diccionarios para renombrar las columnas\n",
    "# Para los años 2015, 2016, 2017\n",
    "names_column_2015_2017 = {\n",
    "    'economy_gdp_per_capita': 'gdp_per_capita',\n",
    "    'trust_government_corruption': 'perceptions_of_corruption',\n",
    "    'family': 'social_support'\n",
    "}"
   ]
  },
  {
   "cell_type": "markdown",
   "metadata": {},
   "source": [
    "Aquí se están creando equivalencias para renombrar columnas que tienen diferentes nombres en los datasets de 2015, 2016 y 2017. Por ejemplo, economy_gdp_per_capita se renombrará a gdp_per_capita para mantener consistencia."
   ]
  },
  {
   "cell_type": "markdown",
   "metadata": {},
   "source": [
    "Diccionario columns_2018_2019 para 2018 y 2019."
   ]
  },
  {
   "cell_type": "code",
   "execution_count": 21,
   "metadata": {},
   "outputs": [],
   "source": [
    "# Para los años 2018 y 2019\n",
    "names_column_2018_2019 = {\n",
    "    'overall_rank': 'happiness_rank',\n",
    "    'score': 'happiness_score',\n",
    "    'freedom_to_make_life_choices': 'freedom',\n",
    "    'country_or_region': 'country',\n",
    "    'healthy_life_expectancy': 'health_life_expectancy'\n",
    "}"
   ]
  },
  {
   "cell_type": "markdown",
   "metadata": {},
   "source": [
    "De igual forma, se están renombrando las columnas de los datasets de 2018 y 2019 para que coincidan con los nombres utilizados en los años anteriores. Por ejemplo, overall_rank se renombrará a happiness_rank."
   ]
  },
  {
   "cell_type": "code",
   "execution_count": 22,
   "metadata": {},
   "outputs": [],
   "source": [
    "# Función para renombrar columnas en los DataFrames\n",
    "def rename_columns(dfs, column_dict):\n",
    "    dfs.rename(columns=column_dict, inplace=True)\n",
    "\n",
    "# Aplicar renombrado a los DataFrames\n",
    "rename_columns(data_2015, names_column_2015_2017)\n",
    "rename_columns(data_2016, names_column_2015_2017)\n",
    "rename_columns(data_2017, names_column_2015_2017)\n",
    "rename_columns(data_2018, names_column_2018_2019)\n",
    "rename_columns(data_2019, names_column_2018_2019)"
   ]
  },
  {
   "cell_type": "markdown",
   "metadata": {},
   "source": [
    "Aquí se llama a la función rename_col() para aplicar los renombrados a los DataFrames correspondientes. Cada DataFrame recibe el diccionario adecuado según el año, para que las columnas tengan nombres consistentes entre todos los datasets."
   ]
  },
  {
   "cell_type": "code",
   "execution_count": 23,
   "metadata": {},
   "outputs": [
    {
     "name": "stdout",
     "output_type": "stream",
     "text": [
      "Columnas en 2015: ['country', 'region', 'happiness_rank', 'happiness_score', 'standard_error', 'gdp_per_capita', 'social_support', 'health_life_expectancy', 'freedom', 'perceptions_of_corruption', 'generosity', 'dystopia_residual']\n",
      "Columnas en 2016: ['country', 'region', 'happiness_rank', 'happiness_score', 'lower_confidence_interval', 'upper_confidence_interval', 'gdp_per_capita', 'social_support', 'health_life_expectancy', 'freedom', 'perceptions_of_corruption', 'generosity', 'dystopia_residual']\n",
      "Columnas en 2017: ['country', 'happiness_rank', 'happiness_score', 'whisker_high', 'whisker_low', 'gdp_per_capita', 'social_support', 'health_life_expectancy', 'freedom', 'generosity', 'perceptions_of_corruption', 'dystopia_residual']\n",
      "Columnas en 2018: ['happiness_rank', 'country', 'happiness_score', 'gdp_per_capita', 'social_support', 'health_life_expectancy', 'freedom', 'generosity', 'perceptions_of_corruption']\n",
      "Columnas en 2019: ['happiness_rank', 'country', 'happiness_score', 'gdp_per_capita', 'social_support', 'health_life_expectancy', 'freedom', 'generosity', 'perceptions_of_corruption']\n"
     ]
    }
   ],
   "source": [
    "# Verificar las columnas después del renombrado\n",
    "for year, dfs in zip([2015, 2016, 2017, 2018, 2019], [data_2015, data_2016, data_2017, data_2018, data_2019]):\n",
    "    print(f\"Columnas en {year}: {dfs.columns.tolist()}\")\n"
   ]
  },
  {
   "cell_type": "markdown",
   "metadata": {},
   "source": [
    "Aquí podemos observar que los nombres han sido normalizados."
   ]
  },
  {
   "cell_type": "markdown",
   "metadata": {},
   "source": [
    "### Eliminar columnas."
   ]
  },
  {
   "cell_type": "markdown",
   "metadata": {},
   "source": [
    "Eliminaremos las columnas que no se utilizarán en el modelo."
   ]
  },
  {
   "cell_type": "code",
   "execution_count": 24,
   "metadata": {},
   "outputs": [],
   "source": [
    "# Eliminación de columnas no deseadas, ignorando errores si las columnas no existen\n",
    "data_2015.drop(columns=['region', 'standard_error', 'dystopia_residual'], inplace=True, errors='ignore')\n",
    "data_2016.drop(columns=['region', 'lower_confidence_interval', 'upper_confidence_interval', 'dystopia_residual'], inplace=True, errors='ignore')\n",
    "data_2017.drop(columns=['whisker_high', 'whisker_low', 'dystopia_residual'], inplace=True, errors='ignore')"
   ]
  },
  {
   "cell_type": "code",
   "execution_count": 25,
   "metadata": {},
   "outputs": [
    {
     "name": "stdout",
     "output_type": "stream",
     "text": [
      "                          happiness_rank country happiness_score  \\\n",
      "social_support                         *       *               *   \n",
      "happiness_score                        *       *               *   \n",
      "gdp_per_capita                         *       *               *   \n",
      "happiness_rank                         *       *               *   \n",
      "generosity                             *       *               *   \n",
      "health_life_expectancy                 *       *               *   \n",
      "country                                *       *               *   \n",
      "perceptions_of_corruption              *       *               *   \n",
      "freedom                                *       *               *   \n",
      "\n",
      "                          gdp_per_capita social_support  \\\n",
      "social_support                         *              *   \n",
      "happiness_score                        *              *   \n",
      "gdp_per_capita                         *              *   \n",
      "happiness_rank                         *              *   \n",
      "generosity                             *              *   \n",
      "health_life_expectancy                 *              *   \n",
      "country                                *              *   \n",
      "perceptions_of_corruption              *              *   \n",
      "freedom                                *              *   \n",
      "\n",
      "                          health_life_expectancy freedom generosity  \\\n",
      "social_support                                 *       *          *   \n",
      "happiness_score                                *       *          *   \n",
      "gdp_per_capita                                 *       *          *   \n",
      "happiness_rank                                 *       *          *   \n",
      "generosity                                     *       *          *   \n",
      "health_life_expectancy                         *       *          *   \n",
      "country                                        *       *          *   \n",
      "perceptions_of_corruption                      *       *          *   \n",
      "freedom                                        *       *          *   \n",
      "\n",
      "                          perceptions_of_corruption  \n",
      "social_support                                    *  \n",
      "happiness_score                                   *  \n",
      "gdp_per_capita                                    *  \n",
      "happiness_rank                                    *  \n",
      "generosity                                        *  \n",
      "health_life_expectancy                            *  \n",
      "country                                           *  \n",
      "perceptions_of_corruption                         *  \n",
      "freedom                                           *  \n"
     ]
    }
   ],
   "source": [
    "# Crear un conjunto con todas las columnas únicas de todos los DataFrames\n",
    "all_columns = list(set().union(*(dfs.columns for df in [data_2015, data_2016, data_2017, data_2018, data_2019])))\n",
    "\n",
    "# Crear un DataFrame de comparación\n",
    "comparison_df = pd.DataFrame({year: [col in dfs.columns for col in all_columns] for year, df in dfs.items()}, index=all_columns)\n",
    "\n",
    "# Reemplazar True por 'X' y False por vacío\n",
    "comparison_df = comparison_df.replace(True, '*').replace(False, '')\n",
    "\n",
    "# Mostrar el resultado\n",
    "print(comparison_df)"
   ]
  },
  {
   "cell_type": "markdown",
   "metadata": {},
   "source": [
    "Aquí podemos observar las columnas que nos quedaron estandarizadas."
   ]
  },
  {
   "cell_type": "markdown",
   "metadata": {},
   "source": [
    "### Concatenación de DataFrames."
   ]
  },
  {
   "cell_type": "code",
   "execution_count": 26,
   "metadata": {},
   "outputs": [
    {
     "name": "stdout",
     "output_type": "stream",
     "text": [
      "El DataFrame concatenado tiene 782 filas y 9 columnas.\n"
     ]
    }
   ],
   "source": [
    "# Concatenar los DataFrames\n",
    "df_concatenado = pd.concat(dataframes, axis=0, ignore_index=True)\n",
    "\n",
    "# Mostrar la forma del DataFrame final para verificar\n",
    "print(f\"El DataFrame concatenado tiene {df_concatenado.shape[0]} filas y {df_concatenado.shape[1]} columnas.\")\n"
   ]
  },
  {
   "cell_type": "markdown",
   "metadata": {},
   "source": [
    "Se realiza un conteo para saber cuantas filas y culumnas tenemos."
   ]
  },
  {
   "cell_type": "code",
   "execution_count": 27,
   "metadata": {},
   "outputs": [
    {
     "data": {
      "text/html": [
       "<div>\n",
       "<style scoped>\n",
       "    .dataframe tbody tr th:only-of-type {\n",
       "        vertical-align: middle;\n",
       "    }\n",
       "\n",
       "    .dataframe tbody tr th {\n",
       "        vertical-align: top;\n",
       "    }\n",
       "\n",
       "    .dataframe thead th {\n",
       "        text-align: right;\n",
       "    }\n",
       "</style>\n",
       "<table border=\"1\" class=\"dataframe\">\n",
       "  <thead>\n",
       "    <tr style=\"text-align: right;\">\n",
       "      <th></th>\n",
       "      <th>country</th>\n",
       "      <th>happiness_rank</th>\n",
       "      <th>happiness_score</th>\n",
       "      <th>gdp_per_capita</th>\n",
       "      <th>social_support</th>\n",
       "      <th>health_life_expectancy</th>\n",
       "      <th>freedom</th>\n",
       "      <th>perceptions_of_corruption</th>\n",
       "      <th>generosity</th>\n",
       "    </tr>\n",
       "  </thead>\n",
       "  <tbody>\n",
       "    <tr>\n",
       "      <th>0</th>\n",
       "      <td>Switzerland</td>\n",
       "      <td>1</td>\n",
       "      <td>7.587</td>\n",
       "      <td>1.39651</td>\n",
       "      <td>1.34951</td>\n",
       "      <td>0.94143</td>\n",
       "      <td>0.66557</td>\n",
       "      <td>0.41978</td>\n",
       "      <td>0.29678</td>\n",
       "    </tr>\n",
       "    <tr>\n",
       "      <th>1</th>\n",
       "      <td>Iceland</td>\n",
       "      <td>2</td>\n",
       "      <td>7.561</td>\n",
       "      <td>1.30232</td>\n",
       "      <td>1.40223</td>\n",
       "      <td>0.94784</td>\n",
       "      <td>0.62877</td>\n",
       "      <td>0.14145</td>\n",
       "      <td>0.43630</td>\n",
       "    </tr>\n",
       "    <tr>\n",
       "      <th>2</th>\n",
       "      <td>Denmark</td>\n",
       "      <td>3</td>\n",
       "      <td>7.527</td>\n",
       "      <td>1.32548</td>\n",
       "      <td>1.36058</td>\n",
       "      <td>0.87464</td>\n",
       "      <td>0.64938</td>\n",
       "      <td>0.48357</td>\n",
       "      <td>0.34139</td>\n",
       "    </tr>\n",
       "    <tr>\n",
       "      <th>3</th>\n",
       "      <td>Norway</td>\n",
       "      <td>4</td>\n",
       "      <td>7.522</td>\n",
       "      <td>1.45900</td>\n",
       "      <td>1.33095</td>\n",
       "      <td>0.88521</td>\n",
       "      <td>0.66973</td>\n",
       "      <td>0.36503</td>\n",
       "      <td>0.34699</td>\n",
       "    </tr>\n",
       "    <tr>\n",
       "      <th>4</th>\n",
       "      <td>Canada</td>\n",
       "      <td>5</td>\n",
       "      <td>7.427</td>\n",
       "      <td>1.32629</td>\n",
       "      <td>1.32261</td>\n",
       "      <td>0.90563</td>\n",
       "      <td>0.63297</td>\n",
       "      <td>0.32957</td>\n",
       "      <td>0.45811</td>\n",
       "    </tr>\n",
       "  </tbody>\n",
       "</table>\n",
       "</div>"
      ],
      "text/plain": [
       "       country  happiness_rank  happiness_score  gdp_per_capita  \\\n",
       "0  Switzerland               1            7.587         1.39651   \n",
       "1      Iceland               2            7.561         1.30232   \n",
       "2      Denmark               3            7.527         1.32548   \n",
       "3       Norway               4            7.522         1.45900   \n",
       "4       Canada               5            7.427         1.32629   \n",
       "\n",
       "   social_support  health_life_expectancy  freedom  perceptions_of_corruption  \\\n",
       "0         1.34951                 0.94143  0.66557                    0.41978   \n",
       "1         1.40223                 0.94784  0.62877                    0.14145   \n",
       "2         1.36058                 0.87464  0.64938                    0.48357   \n",
       "3         1.33095                 0.88521  0.66973                    0.36503   \n",
       "4         1.32261                 0.90563  0.63297                    0.32957   \n",
       "\n",
       "   generosity  \n",
       "0     0.29678  \n",
       "1     0.43630  \n",
       "2     0.34139  \n",
       "3     0.34699  \n",
       "4     0.45811  "
      ]
     },
     "execution_count": 27,
     "metadata": {},
     "output_type": "execute_result"
    }
   ],
   "source": [
    "df_concatenado.head(5)"
   ]
  },
  {
   "cell_type": "markdown",
   "metadata": {},
   "source": [
    "Se muestra una vista de las primeras 5 filas del DataFrame concatenado, donde se pueden ver los valores correspondientes a variables clave como country, happiness_rank, happiness_score, gdp_per_capita, social_support, entre otras."
   ]
  },
  {
   "cell_type": "code",
   "execution_count": 28,
   "metadata": {},
   "outputs": [
    {
     "data": {
      "text/html": [
       "<div>\n",
       "<style scoped>\n",
       "    .dataframe tbody tr th:only-of-type {\n",
       "        vertical-align: middle;\n",
       "    }\n",
       "\n",
       "    .dataframe tbody tr th {\n",
       "        vertical-align: top;\n",
       "    }\n",
       "\n",
       "    .dataframe thead th {\n",
       "        text-align: right;\n",
       "    }\n",
       "</style>\n",
       "<table border=\"1\" class=\"dataframe\">\n",
       "  <thead>\n",
       "    <tr style=\"text-align: right;\">\n",
       "      <th></th>\n",
       "      <th>count</th>\n",
       "      <th>mean</th>\n",
       "      <th>std</th>\n",
       "      <th>min</th>\n",
       "      <th>25%</th>\n",
       "      <th>50%</th>\n",
       "      <th>75%</th>\n",
       "      <th>max</th>\n",
       "    </tr>\n",
       "  </thead>\n",
       "  <tbody>\n",
       "    <tr>\n",
       "      <th>happiness_rank</th>\n",
       "      <td>782.0</td>\n",
       "      <td>78.698210</td>\n",
       "      <td>45.182384</td>\n",
       "      <td>1.000</td>\n",
       "      <td>40.000000</td>\n",
       "      <td>79.000000</td>\n",
       "      <td>118.000000</td>\n",
       "      <td>158.000000</td>\n",
       "    </tr>\n",
       "    <tr>\n",
       "      <th>happiness_score</th>\n",
       "      <td>782.0</td>\n",
       "      <td>5.379018</td>\n",
       "      <td>1.127456</td>\n",
       "      <td>2.693</td>\n",
       "      <td>4.509750</td>\n",
       "      <td>5.322000</td>\n",
       "      <td>6.189500</td>\n",
       "      <td>7.769000</td>\n",
       "    </tr>\n",
       "    <tr>\n",
       "      <th>gdp_per_capita</th>\n",
       "      <td>782.0</td>\n",
       "      <td>0.916047</td>\n",
       "      <td>0.407340</td>\n",
       "      <td>0.000</td>\n",
       "      <td>0.606500</td>\n",
       "      <td>0.982205</td>\n",
       "      <td>1.236187</td>\n",
       "      <td>2.096000</td>\n",
       "    </tr>\n",
       "    <tr>\n",
       "      <th>social_support</th>\n",
       "      <td>782.0</td>\n",
       "      <td>1.078392</td>\n",
       "      <td>0.329548</td>\n",
       "      <td>0.000</td>\n",
       "      <td>0.869363</td>\n",
       "      <td>1.124735</td>\n",
       "      <td>1.327250</td>\n",
       "      <td>1.644000</td>\n",
       "    </tr>\n",
       "    <tr>\n",
       "      <th>health_life_expectancy</th>\n",
       "      <td>782.0</td>\n",
       "      <td>0.612416</td>\n",
       "      <td>0.248309</td>\n",
       "      <td>0.000</td>\n",
       "      <td>0.440183</td>\n",
       "      <td>0.647310</td>\n",
       "      <td>0.808000</td>\n",
       "      <td>1.141000</td>\n",
       "    </tr>\n",
       "    <tr>\n",
       "      <th>freedom</th>\n",
       "      <td>782.0</td>\n",
       "      <td>0.411091</td>\n",
       "      <td>0.152880</td>\n",
       "      <td>0.000</td>\n",
       "      <td>0.309768</td>\n",
       "      <td>0.431000</td>\n",
       "      <td>0.531000</td>\n",
       "      <td>0.724000</td>\n",
       "    </tr>\n",
       "    <tr>\n",
       "      <th>perceptions_of_corruption</th>\n",
       "      <td>781.0</td>\n",
       "      <td>0.125436</td>\n",
       "      <td>0.105816</td>\n",
       "      <td>0.000</td>\n",
       "      <td>0.054000</td>\n",
       "      <td>0.091000</td>\n",
       "      <td>0.156030</td>\n",
       "      <td>0.551910</td>\n",
       "    </tr>\n",
       "    <tr>\n",
       "      <th>generosity</th>\n",
       "      <td>782.0</td>\n",
       "      <td>0.218576</td>\n",
       "      <td>0.122321</td>\n",
       "      <td>0.000</td>\n",
       "      <td>0.130000</td>\n",
       "      <td>0.201982</td>\n",
       "      <td>0.278832</td>\n",
       "      <td>0.838075</td>\n",
       "    </tr>\n",
       "  </tbody>\n",
       "</table>\n",
       "</div>"
      ],
      "text/plain": [
       "                           count       mean        std    min        25%  \\\n",
       "happiness_rank             782.0  78.698210  45.182384  1.000  40.000000   \n",
       "happiness_score            782.0   5.379018   1.127456  2.693   4.509750   \n",
       "gdp_per_capita             782.0   0.916047   0.407340  0.000   0.606500   \n",
       "social_support             782.0   1.078392   0.329548  0.000   0.869363   \n",
       "health_life_expectancy     782.0   0.612416   0.248309  0.000   0.440183   \n",
       "freedom                    782.0   0.411091   0.152880  0.000   0.309768   \n",
       "perceptions_of_corruption  781.0   0.125436   0.105816  0.000   0.054000   \n",
       "generosity                 782.0   0.218576   0.122321  0.000   0.130000   \n",
       "\n",
       "                                 50%         75%         max  \n",
       "happiness_rank             79.000000  118.000000  158.000000  \n",
       "happiness_score             5.322000    6.189500    7.769000  \n",
       "gdp_per_capita              0.982205    1.236187    2.096000  \n",
       "social_support              1.124735    1.327250    1.644000  \n",
       "health_life_expectancy      0.647310    0.808000    1.141000  \n",
       "freedom                     0.431000    0.531000    0.724000  \n",
       "perceptions_of_corruption   0.091000    0.156030    0.551910  \n",
       "generosity                  0.201982    0.278832    0.838075  "
      ]
     },
     "execution_count": 28,
     "metadata": {},
     "output_type": "execute_result"
    }
   ],
   "source": [
    "df_concatenado.describe().T"
   ]
  },
  {
   "cell_type": "markdown",
   "metadata": {},
   "source": [
    "Resumen estadístico:\n",
    "\n",
    "* happiness_rank: Va de 1 (mínimo) a 156 (máximo), con un promedio de aproximadamente 78, lo cual es consistente con la clasificación de países en función de su felicidad.\n",
    "* happiness_score: El puntaje de felicidad promedio es 5.37, con un rango que va de 2.69 a 7.77. Esto indica una variación considerable en la felicidad entre los países.\n",
    "* gdp_per_capita: Tiene una media de 0.98 y un máximo de 2.09, lo que refleja la variabilidad en el PIB per cápita entre los países.\n",
    "* social_support: Muestra una media de 1.12, indicando que el nivel de apoyo social es relativamente alto en general.\n",
    "* perceptions_of_corruption: La percepción de la corrupción varía bastante, con un promedio de 0.15 y un rango de 0 a 0.55.\n",
    "* generosity: También varía entre países, con una media de 0.18."
   ]
  },
  {
   "cell_type": "code",
   "execution_count": 29,
   "metadata": {},
   "outputs": [
    {
     "name": "stdout",
     "output_type": "stream",
     "text": [
      "<class 'pandas.core.frame.DataFrame'>\n",
      "RangeIndex: 782 entries, 0 to 781\n",
      "Data columns (total 9 columns):\n",
      " #   Column                     Non-Null Count  Dtype  \n",
      "---  ------                     --------------  -----  \n",
      " 0   country                    782 non-null    object \n",
      " 1   happiness_rank             782 non-null    int64  \n",
      " 2   happiness_score            782 non-null    float64\n",
      " 3   gdp_per_capita             782 non-null    float64\n",
      " 4   social_support             782 non-null    float64\n",
      " 5   health_life_expectancy     782 non-null    float64\n",
      " 6   freedom                    782 non-null    float64\n",
      " 7   perceptions_of_corruption  781 non-null    float64\n",
      " 8   generosity                 782 non-null    float64\n",
      "dtypes: float64(7), int64(1), object(1)\n",
      "memory usage: 55.1+ KB\n",
      "None\n"
     ]
    }
   ],
   "source": [
    "print(df_concatenado.info())"
   ]
  },
  {
   "cell_type": "markdown",
   "metadata": {},
   "source": [
    "* country: Tipo object, lo que indica que es una columna categórica (nombres de los países).\n",
    "* happiness_rank, happiness_score, gdp_per_capita, social_support, health_life_expectancy, freedom, perceptions_of_corruption, generosity: Tipo float64 o int64, lo que indica que son variables numéricas."
   ]
  },
  {
   "cell_type": "markdown",
   "metadata": {},
   "source": [
    "Como podemos observar que tenemos un dato nulo en perceptions_of_expectancy, procedemos a eliminar la fila que contiene el dato faltante."
   ]
  },
  {
   "cell_type": "code",
   "execution_count": 30,
   "metadata": {},
   "outputs": [],
   "source": [
    "# Eliminar filas donde la columna 'perceptions_of_corruption' tenga valores nulos\n",
    "#df_concatenado = df_concatenado.dropna(subset=['perceptions_of_corruption'])\n",
    "\n",
    "# Verificar si las filas con valores nulos han sido eliminadas\n",
    "#print(f\"El DataFrame ahora tiene {df_concatenado.shape[0]} filas.\")"
   ]
  },
  {
   "cell_type": "markdown",
   "metadata": {},
   "source": [
    "Después de eliminar las filas, se puede verificar que el DataFrame ha reducido su número de filas de 782 a 781."
   ]
  },
  {
   "cell_type": "markdown",
   "metadata": {},
   "source": [
    "Matriz de correlación."
   ]
  },
  {
   "cell_type": "code",
   "execution_count": 31,
   "metadata": {},
   "outputs": [
    {
     "data": {
      "image/png": "[encoded data removed]",
      "text/plain": [
       "<Figure size 600x400 with 2 Axes>"
      ]
     },
     "metadata": {},
     "output_type": "display_data"
    }
   ],
   "source": [
    "# Filtrar solo las columnas numéricas\n",
    "numeric_df = df_concatenado.select_dtypes(include=['float64', 'int64'])\n",
    "\n",
    "# Crear la matriz de correlación de las columnas numéricas\n",
    "correlation_matrix = numeric_df.corr()\n",
    "\n",
    "# Mostrar la matriz de correlación usando un mapa de calor\n",
    "plt.figure(figsize=(6, 4))\n",
    "sns.heatmap(correlation_matrix, annot=True, cmap='coolwarm', fmt='.2f', linewidths=0.5)\n",
    "plt.title('Matriz de Correlación de las Variables Numéricas')\n",
    "plt.show()\n"
   ]
  },
  {
   "cell_type": "markdown",
   "metadata": {},
   "source": [
    "* Happiness Rank y Happiness Score: Hay una fuerte correlación negativa (-0.99). Esto tiene sentido porque un menor Happiness Rank (número más bajo en el ranking) indica un mayor Happiness Score.\n",
    "\n",
    "* GDP per Capita y Happiness Score: Correlación positiva alta (0.79), lo que sugiere que a medida que aumenta el PIB per cápita, los puntajes de felicidad también tienden a aumentar.\n",
    "\n",
    "* Health (Life Expectancy) y Happiness Score: Alta correlación positiva (0.74), lo que indica que una mayor expectativa de vida saludable está relacionada con un mayor nivel de felicidad.\n",
    "\n",
    "* Social Support y Happiness Score: Correlación positiva significativa (0.65), lo que muestra que un mayor apoyo social se asocia con mayor felicidad.\n",
    "* Perceptions of Corruption: Correlación negativa con el Happiness Score (-0.40), lo que indica que a medida que la percepción de corrupción disminuye, el nivel de felicidad aumenta.\n",
    "\n",
    "* Freedom y Happiness Score: Correlación positiva (0.55), lo que sugiere que los países con más libertad para tomar decisiones personales tienden a ser más felices.\n",
    "\n",
    "Las variables que más influyen positivamente en la felicidad son:\n",
    "\n",
    "* GDP per Capita.\n",
    "* Health (Life Expectancy).\n",
    "* Social Support.\n",
    "\n",
    "Por otro lado, la percepción de corrupción tiene un impacto negativo en la felicidad, lo que significa que los países con menor percepción de corrupción tienden a ser más felices."
   ]
  },
  {
   "cell_type": "markdown",
   "metadata": {},
   "source": [
    "Histogramas de las variables numéricas para detectar distribución y outliers"
   ]
  },
  {
   "cell_type": "code",
   "execution_count": 32,
   "metadata": {},
   "outputs": [
    {
     "data": {
      "text/plain": [
       "<Figure size 800x600 with 0 Axes>"
      ]
     },
     "metadata": {},
     "output_type": "display_data"
    },
    {
     "data": {
      "image/png": "[encoded data removed]",
      "text/plain": [
       "<Figure size 800x600 with 9 Axes>"
      ]
     },
     "metadata": {},
     "output_type": "display_data"
    }
   ],
   "source": [
    "# Configuración para gráficos\n",
    "plt.style.use('ggplot')\n",
    "plt.figure(figsize=(8, 6))\n",
    "\n",
    "df_concatenado.hist(bins=20, figsize=(8, 6), layout=(3, 3), edgecolor='black')\n",
    "plt.suptitle('Distribución de las Variables Numéricas', fontsize=16)\n",
    "plt.tight_layout()\n",
    "plt.show()"
   ]
  },
  {
   "cell_type": "markdown",
   "metadata": {},
   "source": [
    "* Happiness Rank: Distribución uniforme, los países se distribuyen equitativamente en el ranking de felicidad.\n",
    "* Happiness Score: La mayoría de los países tienen puntajes de felicidad entre 4 y 7.\n",
    "* GDP per Capita: La mayoría tiene un PIB bajo, con pocos países en el extremo superior.\n",
    "* Social Support: La mayoría de los países tiene un alto apoyo social (alrededor de 1.5).\n",
    "* Health (Life Expectancy): La expectativa de vida está concentrada entre 0.5 y 1.\n",
    "* Freedom: La libertad percibida está entre 0.3 y 0.6.\n",
    "* Perceptions of Corruption: La mayoría de los países tiene baja percepción de corrupción (< 0.2).\n",
    "* Generosity: Predomina la generosidad baja, con pocos países en valores altos."
   ]
  },
  {
   "cell_type": "markdown",
   "metadata": {},
   "source": [
    "Gráfico 2: Comparación de Happiness Score entre los años."
   ]
  },
  {
   "cell_type": "code",
   "execution_count": 33,
   "metadata": {},
   "outputs": [
    {
     "data": {
      "image/png": "[encoded data removed]",
      "text/plain": [
       "<Figure size 800x400 with 1 Axes>"
      ]
     },
     "metadata": {},
     "output_type": "display_data"
    }
   ],
   "source": [
    "df_concatenado['year'] = pd.cut(df_concatenado.index, bins=[0, 157, 314, 469, 625, 782], labels=[2015, 2016, 2017, 2018, 2019])\n",
    "\n",
    "plt.figure(figsize=(8, 4))\n",
    "sns.barplot(x='year', y='happiness_score', data=df_concatenado, estimator='mean')\n",
    "plt.title('Comparación de Puntaje de Felicidad entre 2015-2019')\n",
    "plt.ylabel('Happiness Score Promedio')\n",
    "plt.xlabel('Año')\n",
    "plt.show()"
   ]
  },
  {
   "cell_type": "markdown",
   "metadata": {},
   "source": [
    "* El puntaje de felicidad promedio se ha mantenido relativamente estable durante los años analizados, con pequeñas variaciones.\n",
    "* El puntaje promedio está en torno a 5.3 para todos los años, sin cambios drásticos en el periodo.\n",
    "* Las barras de error en la parte superior de cada barra indican la variabilidad del puntaje en cada año, y muestran que las diferencias entre los años son mínimas."
   ]
  },
  {
   "cell_type": "markdown",
   "metadata": {},
   "source": [
    "Gráfico 3: Comparación de GDP per Capita entre los años."
   ]
  },
  {
   "cell_type": "code",
   "execution_count": 34,
   "metadata": {},
   "outputs": [
    {
     "data": {
      "image/png": "[encoded data removed]",
      "text/plain": [
       "<Figure size 800x400 with 1 Axes>"
      ]
     },
     "metadata": {},
     "output_type": "display_data"
    }
   ],
   "source": [
    "plt.figure(figsize=(8, 4))\n",
    "sns.barplot(x='year', y='gdp_per_capita', data=df_concatenado, estimator='mean')\n",
    "plt.title('Comparación de GDP per Capita entre 2015-2019')\n",
    "plt.ylabel('GDP per Capita Promedio')\n",
    "plt.xlabel('Año')\n",
    "plt.show()"
   ]
  },
  {
   "cell_type": "markdown",
   "metadata": {},
   "source": [
    "* El PIB per cápita promedio fue más bajo en 2015 en comparación con los años posteriores.\n",
    "* El pico más alto ocurrió en 2017, donde el promedio del PIB per cápita fue el más elevado.\n",
    "* En los años 2018 y 2019, el promedio del PIB per cápita disminuyó ligeramente en comparación con 2017, pero aún se mantiene más alto que en 2015.\n",
    "* Las barras de error muestran la variabilidad de los datos en cada año, y aunque existen ligeras variaciones, no son extremadamente amplias."
   ]
  },
  {
   "cell_type": "markdown",
   "metadata": {},
   "source": [
    "### Análisis de distribución por cada columna."
   ]
  },
  {
   "cell_type": "markdown",
   "metadata": {},
   "source": [
    "#### Culumna country"
   ]
  },
  {
   "cell_type": "markdown",
   "metadata": {},
   "source": [
    "Vamos a analizar los países del conjunto de datos.\n",
    "Ya que hay muchos países, se van a divirdir en 6 continentes, para poder realizar un mejor análisis."
   ]
  },
  {
   "cell_type": "code",
   "execution_count": 35,
   "metadata": {},
   "outputs": [
    {
     "data": {
      "text/plain": [
       "array(['Switzerland', 'Iceland', 'Denmark', 'Norway', 'Canada', 'Finland',\n",
       "       'Netherlands', 'Sweden', 'New Zealand', 'Australia', 'Israel',\n",
       "       'Costa Rica', 'Austria', 'Mexico', 'United States', 'Brazil',\n",
       "       'Luxembourg', 'Ireland', 'Belgium', 'United Arab Emirates',\n",
       "       'United Kingdom', 'Oman', 'Venezuela', 'Singapore', 'Panama',\n",
       "       'Germany', 'Chile', 'Qatar', 'France', 'Argentina',\n",
       "       'Czech Republic', 'Uruguay', 'Colombia', 'Thailand',\n",
       "       'Saudi Arabia', 'Spain', 'Malta', 'Taiwan', 'Kuwait', 'Suriname',\n",
       "       'Trinidad and Tobago', 'El Salvador', 'Guatemala', 'Uzbekistan',\n",
       "       'Slovakia', 'Japan', 'South Korea', 'Ecuador', 'Bahrain', 'Italy',\n",
       "       'Bolivia', 'Moldova', 'Paraguay', 'Kazakhstan', 'Slovenia',\n",
       "       'Lithuania', 'Nicaragua', 'Peru', 'Belarus', 'Poland', 'Malaysia',\n",
       "       'Croatia', 'Libya', 'Russia', 'Jamaica', 'North Cyprus', 'Cyprus',\n",
       "       'Algeria', 'Kosovo', 'Turkmenistan', 'Mauritius', 'Hong Kong',\n",
       "       'Estonia', 'Indonesia', 'Vietnam', 'Turkey', 'Kyrgyzstan',\n",
       "       'Nigeria', 'Bhutan', 'Azerbaijan', 'Pakistan', 'Jordan',\n",
       "       'Montenegro', 'China', 'Zambia', 'Romania', 'Serbia', 'Portugal',\n",
       "       'Latvia', 'Philippines', 'Somaliland region', 'Morocco',\n",
       "       'Macedonia', 'Mozambique', 'Albania', 'Bosnia and Herzegovina',\n",
       "       'Lesotho', 'Dominican Republic', 'Laos', 'Mongolia', 'Swaziland',\n",
       "       'Greece', 'Lebanon', 'Hungary', 'Honduras', 'Tajikistan',\n",
       "       'Tunisia', 'Palestinian Territories', 'Bangladesh', 'Iran',\n",
       "       'Ukraine', 'Iraq', 'South Africa', 'Ghana', 'Zimbabwe', 'Liberia',\n",
       "       'India', 'Sudan', 'Haiti', 'Congo (Kinshasa)', 'Nepal', 'Ethiopia',\n",
       "       'Sierra Leone', 'Mauritania', 'Kenya', 'Djibouti', 'Armenia',\n",
       "       'Botswana', 'Myanmar', 'Georgia', 'Malawi', 'Sri Lanka',\n",
       "       'Cameroon', 'Bulgaria', 'Egypt', 'Yemen', 'Angola', 'Mali',\n",
       "       'Congo (Brazzaville)', 'Comoros', 'Uganda', 'Senegal', 'Gabon',\n",
       "       'Niger', 'Cambodia', 'Tanzania', 'Madagascar',\n",
       "       'Central African Republic', 'Chad', 'Guinea', 'Ivory Coast',\n",
       "       'Burkina Faso', 'Afghanistan', 'Rwanda', 'Benin', 'Syria',\n",
       "       'Burundi', 'Togo', 'Puerto Rico', 'Belize', 'Somalia',\n",
       "       'Somaliland Region', 'Namibia', 'South Sudan',\n",
       "       'Taiwan Province of China', 'Hong Kong S.A.R., China',\n",
       "       'Trinidad & Tobago', 'Northern Cyprus', 'North Macedonia',\n",
       "       'Gambia'], dtype=object)"
      ]
     },
     "execution_count": 35,
     "metadata": {},
     "output_type": "execute_result"
    }
   ],
   "source": [
    "unique_countr = df_concatenado['country'].unique()\n",
    "unique_countr"
   ]
  },
  {
   "cell_type": "code",
   "execution_count": 36,
   "metadata": {},
   "outputs": [
    {
     "data": {
      "text/plain": [
       "170"
      ]
     },
     "execution_count": 36,
     "metadata": {},
     "output_type": "execute_result"
    }
   ],
   "source": [
    "total_countries = len(unique_countr)\n",
    "total_countries"
   ]
  },
  {
   "cell_type": "markdown",
   "metadata": {},
   "source": [
    "Aquí podemos ver la cantidad total."
   ]
  },
  {
   "cell_type": "code",
   "execution_count": 37,
   "metadata": {},
   "outputs": [],
   "source": [
    "def continent(df : pd.DataFrame) -> pd.DataFrame:\n",
    "    \n",
    "    country_to_continent = {\n",
    "         'New Zealand': 'oceania',\n",
    "        'Australia': 'oceania',\n",
    "        'Czech Republic': 'europe',\n",
    "        'Northern Cyprus': 'europe',\n",
    "        'Ireland': 'europe',\n",
    "        'Switzerland': 'europe',\n",
    "        'Belgium': 'europe',\n",
    "        'Finland': 'europe',\n",
    "        'North Macedonia': 'europe',\n",
    "        'Iceland': 'europe',\n",
    "        'United Kingdom': 'europe',\n",
    "        'Netherlands': 'europe',\n",
    "        'Denmark': 'europe',\n",
    "        'Slovenia': 'europe',\n",
    "        'Lithuania': 'europe',\n",
    "        'Norway': 'europe',\n",
    "        'Russia': 'europe',\n",
    "        'Austria': 'europe',\n",
    "        'Montenegro': 'europe',\n",
    "        'Cyprus': 'europe',\n",
    "        'North Cyprus': 'europe',\n",
    "        'Kosovo': 'europe',\n",
    "        'Romania': 'europe',\n",
    "        'Hungary': 'europe',\n",
    "        'Serbia': 'europe',\n",
    "        'Portugal': 'europe',\n",
    "        'Estonia': 'europe',\n",
    "        'Latvia': 'europe',\n",
    "        'Greece': 'europe',\n",
    "        'Macedonia': 'europe',\n",
    "        'Albania': 'europe',\n",
    "        'Bosnia and Herzegovina': 'europe',\n",
    "        'Croatia': 'europe',\n",
    "        'Sweden': 'europe',\n",
    "        'Luxembourg': 'europe',\n",
    "        'Spain': 'europe',\n",
    "        'Italy': 'europe',\n",
    "        'Moldova': 'europe',\n",
    "        'Malta': 'europe',\n",
    "        'Ukraine': 'europe',\n",
    "        'France': 'europe',\n",
    "        'Slovakia': 'europe',\n",
    "        'Bulgaria': 'europe',\n",
    "        'Germany': 'europe',\n",
    "        'Peru': 'south_america',\n",
    "        'Uruguay': 'south_america',\n",
    "        'Bolivia': 'south_america',\n",
    "        'Argentina': 'south_america',\n",
    "        'Colombia': 'south_america',\n",
    "        'Venezuela': 'south_america',\n",
    "        'Paraguay': 'south_america',\n",
    "        'Chile': 'south_america',\n",
    "        'Brazil': 'south_america',\n",
    "        'Ecuador': 'south_america',\n",
    "        'Suriname': 'south_america',\n",
    "        'Trinidad and Tobago': 'north_america',\n",
    "        'El Salvador': 'north_america',\n",
    "        'Nicaragua': 'north_america',\n",
    "        'Guatemala': 'north_america',\n",
    "        'Canada': 'north_america',\n",
    "        'Honduras': 'north_america',\n",
    "        'Costa Rica': 'north_america',\n",
    "        'Belize': 'north_america',\n",
    "        'Trinidad & Tobago': 'north_america',\n",
    "        'Puerto Rico': 'north_america',\n",
    "        'Haiti': 'north_america',\n",
    "        'Dominican Republic': 'north_america',\n",
    "        'Jamaica': 'north_america',\n",
    "        'Panama': 'north_america',\n",
    "        'Mexico': 'north_america',\n",
    "        'United States': 'north_america',\n",
    "        'Palestinian Territories': 'asia',\n",
    "        'Bangladesh': 'asia',\n",
    "        'Thailand': 'asia',\n",
    "        'Bahrain': 'asia',\n",
    "        'Japan': 'asia',\n",
    "        'Malaysia': 'asia',\n",
    "        'Saudi Arabia': 'asia',\n",
    "        'Uzbekistan': 'asia',\n",
    "        'United Arab Emirates': 'asia',\n",
    "        'Kazakhstan': 'asia',\n",
    "        'Taiwan': 'asia',\n",
    "         'Syria': 'asia',\n",
    "        'Taiwan Province of China': 'asia',\n",
    "        'Yemen': 'asia',\n",
    "        'Afghanistan': 'asia',\n",
    "        'Hong Kong S.A.R., China': 'asia',\n",
    "        'Cambodia': 'asia',\n",
    "        'Oman': 'asia',\n",
    "        'Singapore': 'asia',\n",
    "        'Israel': 'asia',\n",
    "        'South Korea': 'asia',\n",
    "        'Kuwait': 'asia',\n",
    "        'Qatar': 'asia',\n",
    "        'Myanmar': 'asia',\n",
    "        'Tajikistan': 'asia',\n",
    "        'Philippines': 'asia',\n",
    "        'Hong Kong': 'asia',\n",
    "        'Bhutan': 'asia',\n",
    "        'Azerbaijan': 'asia',\n",
    "        'Pakistan': 'asia',\n",
    "        'Jordan': 'asia',\n",
    "        'Kyrgyzstan': 'asia',\n",
    "        'Turkmenistan': 'asia',\n",
    "        'China': 'asia',\n",
    "        'Indonesia': 'asia',\n",
    "        'Vietnam': 'asia',\n",
    "        'Turkey': 'asia',\n",
    "        'Armenia': 'asia',\n",
    "        'Laos': 'asia',\n",
    "        'Mongolia': 'asia',\n",
    "        'India': 'asia',\n",
    "        'Georgia': 'asia',\n",
    "        'Iraq': 'asia',\n",
    "        'Sri Lanka': 'asia',\n",
    "        'Lebanon': 'asia',\n",
    "        'Nepal': 'asia',\n",
    "        'Iran': 'asia',\n",
    "        'South Africa': 'africa',\n",
    "        'Ghana': 'africa',\n",
    "        'Zimbabwe': 'africa',\n",
    "        'Tunisia': 'africa',\n",
    "        'Liberia': 'africa',\n",
    "        'Sudan': 'africa',\n",
    "        'Congo (Kinshasa)': 'africa',\n",
    "        'Ethiopia': 'africa',\n",
    "        'Sierra Leone': 'africa',\n",
    "        'Mauritania': 'africa',\n",
    "        'Kenya': 'africa',\n",
    "        'Djibouti': 'africa',\n",
    "        'Botswana': 'africa',\n",
    "        'Mauritius': 'africa',\n",
    "        'Libya': 'africa',\n",
    "        'Mozambique': 'africa',\n",
    "        'Lesotho': 'africa',\n",
    "        'Somaliland region': 'africa',\n",
    "        'Morocco': 'africa',\n",
    "        'Nigeria': 'africa',\n",
    "        'Swaziland': 'africa',\n",
    "        'Algeria': 'africa',\n",
    "        'Zambia': 'africa',\n",
    "        'Malawi': 'africa',\n",
    "        'Cameroon': 'africa',\n",
    "        'Egypt': 'africa',\n",
    "        'Angola': 'africa',\n",
    "        'Burkina Faso': 'africa',\n",
    "        'Congo (Brazzaville)': 'africa',\n",
    "        'Somaliland Region': 'africa',\n",
    "        'Comoros': 'africa',\n",
    "        'Uganda': 'africa',\n",
    "        'South Sudan': 'africa',\n",
    "        'Senegal': 'africa',\n",
    "        'Burundi': 'africa',\n",
    "        'Namibia': 'africa',\n",
    "        'Somalia': 'africa',\n",
    "        'Mali': 'africa',\n",
    "        'Ivory Coast': 'africa',\n",
    "        'Gabon': 'africa',\n",
    "        'Niger': 'africa',\n",
    "        'Gambia': 'africa',\n",
    "        'Tanzania': 'africa',\n",
    "        'Madagascar': 'africa',\n",
    "        'Benin': 'africa',\n",
    "        'Central african Republic': 'africa',\n",
    "        'Chad': 'africa',\n",
    "        'Rwanda': 'africa',\n",
    "        'Togo': 'africa',\n",
    "        'Guinea': 'africa'\n",
    "    }\n",
    "    \n",
    "    df_concatenado['continent'] = df_concatenado['country'].map(country_to_continent)\n",
    "    return df_concatenado\n",
    "\n",
    "df = continent(df)"
   ]
  },
  {
   "cell_type": "markdown",
   "metadata": {},
   "source": [
    "Eliminamos la columna Country ya que ya tenemos los continentes, y happiness_rank, ya que no brinda información importante."
   ]
  },
  {
   "cell_type": "code",
   "execution_count": 38,
   "metadata": {},
   "outputs": [],
   "source": [
    "df_concatenado.drop(columns=['country', 'happiness_rank'], inplace=True, errors='ignore')"
   ]
  },
  {
   "cell_type": "markdown",
   "metadata": {},
   "source": [
    "Gráfico de barras para mostrar la distribución de los continentes."
   ]
  },
  {
   "cell_type": "code",
   "execution_count": 39,
   "metadata": {},
   "outputs": [
    {
     "name": "stderr",
     "output_type": "stream",
     "text": [
      "C:\\Users\\MAFE\\AppData\\Local\\Temp\\ipykernel_5048\\1182754990.py:2: FutureWarning: \n",
      "\n",
      "Passing `palette` without assigning `hue` is deprecated and will be removed in v0.14.0. Assign the `x` variable to `hue` and set `legend=False` for the same effect.\n",
      "\n",
      "  sns.countplot(x='continent', data=df, palette='Set2')\n"
     ]
    },
    {
     "data": {
      "image/png": "[encoded data removed]",
      "text/plain": [
       "<Figure size 800x600 with 1 Axes>"
      ]
     },
     "metadata": {},
     "output_type": "display_data"
    }
   ],
   "source": [
    "plt.figure(figsize=(8, 6))\n",
    "sns.countplot(x='continent', data=df, palette='Set2')\n",
    "\n",
    "# Título del gráfico\n",
    "plt.title('Distribución de Continentes', fontsize=16, fontweight='bold')\n",
    "\n",
    "# Etiquetas y estilos\n",
    "plt.xlabel('Continente', fontsize=14, labelpad=10)\n",
    "plt.ylabel('Frecuencia', fontsize=14, labelpad=10)\n",
    "\n",
    "# Ajustes estéticos\n",
    "plt.xticks(rotation=45, fontsize=12)\n",
    "plt.yticks(fontsize=12)\n",
    "\n",
    "# Agregar rejilla\n",
    "plt.grid(axis='y', linestyle='--', alpha=0.7)\n",
    "\n",
    "# Mostrar el gráfico\n",
    "plt.tight_layout()\n",
    "plt.show()"
   ]
  },
  {
   "cell_type": "markdown",
   "metadata": {},
   "source": [
    "* Asia, África, y Europa son los continentes con la mayor frecuencia, representando un gran número de países en el conjunto de datos.\n",
    "* Oceanía y Sudamérica tienen las frecuencias más bajas.\n",
    "* Norteamérica ocupa una posición intermedia en términos de frecuencia."
   ]
  },
  {
   "cell_type": "markdown",
   "metadata": {},
   "source": [
    "#### Columna happiness_score"
   ]
  },
  {
   "cell_type": "code",
   "execution_count": 40,
   "metadata": {},
   "outputs": [
    {
     "name": "stdout",
     "output_type": "stream",
     "text": [
      "Estadísticas Descriptivas de happiness_score:\n",
      "count    782.000000\n",
      "mean       5.379018\n",
      "std        1.127456\n",
      "min        2.693000\n",
      "25%        4.509750\n",
      "50%        5.322000\n",
      "75%        6.189500\n",
      "max        7.769000\n",
      "Name: happiness_score, dtype: float64\n"
     ]
    },
    {
     "data": {
      "image/png": "[encoded data removed]",
      "text/plain": [
       "<Figure size 1100x500 with 2 Axes>"
      ]
     },
     "metadata": {},
     "output_type": "display_data"
    }
   ],
   "source": [
    "# Calcular estadísticas descriptivas\n",
    "print(\"Estadísticas Descriptivas de happiness_score:\")\n",
    "print(df_concatenado['happiness_score'].describe())\n",
    "\n",
    "# Crear la figura con subplots\n",
    "plt.figure(figsize=(11, 5))\n",
    "\n",
    "# Histograma\n",
    "plt.subplot(1, 2, 1)\n",
    "sns.histplot(df['happiness_score'], kde=True, color='skyblue', bins=20)\n",
    "plt.title('Histograma de happiness_score')\n",
    "plt.xlabel('Happiness Score')\n",
    "plt.ylabel('Frecuencia')\n",
    "\n",
    "# Boxplot\n",
    "plt.subplot(1, 2, 2)\n",
    "sns.boxplot(y=df['happiness_score'], color='lightgreen')\n",
    "plt.title('Boxplot de happiness_score')\n",
    "\n",
    "plt.tight_layout()\n",
    "plt.show()"
   ]
  },
  {
   "cell_type": "markdown",
   "metadata": {},
   "source": [
    "El análisis de la distribución de los puntajes de felicidad muestra que la mayoría de los países tienen un puntaje entre 4.5 y 6.5, con un promedio de 5.41. La mediana es 5.38, lo que indica que la mitad de los países tienen un puntaje igual o inferior a este valor. No se observan valores atípicos significativos, y la variabilidad de los puntajes es moderada, con una desviación estándar de 1.11. En general, los puntajes de felicidad están distribuidos de manera relativamente uniforme, con una ligera tendencia hacia valores más altos."
   ]
  },
  {
   "cell_type": "markdown",
   "metadata": {},
   "source": [
    "#### Columna gdp_per_capita"
   ]
  },
  {
   "cell_type": "code",
   "execution_count": 41,
   "metadata": {},
   "outputs": [
    {
     "data": {
      "image/png": "[encoded data removed]",
      "text/plain": [
       "<Figure size 1100x500 with 2 Axes>"
      ]
     },
     "metadata": {},
     "output_type": "display_data"
    },
    {
     "data": {
      "text/plain": [
       "count    782.000000\n",
       "mean       0.916047\n",
       "std        0.407340\n",
       "min        0.000000\n",
       "25%        0.606500\n",
       "50%        0.982205\n",
       "75%        1.236187\n",
       "max        2.096000\n",
       "Name: gdp_per_capita, dtype: float64"
      ]
     },
     "execution_count": 41,
     "metadata": {},
     "output_type": "execute_result"
    }
   ],
   "source": [
    "\n",
    "# Generar el análisis para gdp_per_capita\n",
    "gdp_stats = df_concatenado['gdp_per_capita'].describe()\n",
    "\n",
    "# Crear gráficos de histograma y boxplot para gdp_per_capita\n",
    "plt.figure(figsize=(11, 5))\n",
    "\n",
    "plt.subplot(1, 2, 1)\n",
    "sns.histplot(df_concatenado['gdp_per_capita'], bins=20, kde=True, color=\"lightblue\")\n",
    "plt.title('Histograma de gdp_per_capita')\n",
    "plt.xlabel('GDP per Capita')\n",
    "plt.ylabel('Frecuencia')\n",
    "\n",
    "plt.subplot(1, 2, 2)\n",
    "sns.boxplot(data=df_concatenado, x='gdp_per_capita', color=\"lightgreen\")\n",
    "plt.title('Boxplot de gdp_per_capita')\n",
    "plt.xlabel('GDP per Capita')\n",
    "\n",
    "plt.tight_layout()\n",
    "plt.show()\n",
    "\n",
    "gdp_stats"
   ]
  },
  {
   "cell_type": "markdown",
   "metadata": {},
   "source": [
    "El análisis del PIB per cápita muestra que la mayoría de los países tienen un valor promedio cercano a 0.91, con pocos países extremos. La distribución tiene una acumulación alrededor del valor de 1, mientras que el valor máximo alcanza 1.87. El histograma indica que la mayoría de las economías se concentran cerca del promedio."
   ]
  },
  {
   "cell_type": "markdown",
   "metadata": {},
   "source": [
    "#### Columna social_support"
   ]
  },
  {
   "cell_type": "code",
   "execution_count": 42,
   "metadata": {},
   "outputs": [
    {
     "data": {
      "image/png": "[encoded data removed]",
      "text/plain": [
       "<Figure size 1100x500 with 2 Axes>"
      ]
     },
     "metadata": {},
     "output_type": "display_data"
    },
    {
     "name": "stdout",
     "output_type": "stream",
     "text": [
      "count    782.000000\n",
      "mean       1.078392\n",
      "std        0.329548\n",
      "min        0.000000\n",
      "25%        0.869363\n",
      "50%        1.124735\n",
      "75%        1.327250\n",
      "max        1.644000\n",
      "Name: social_support, dtype: float64\n"
     ]
    }
   ],
   "source": [
    "# Descriptive statistics\n",
    "social_support_stats = df_concatenado['social_support'].describe()\n",
    "\n",
    "# Plot the histogram and boxplot\n",
    "plt.figure(figsize=(11, 5))\n",
    "\n",
    "# Histogram with KDE\n",
    "plt.subplot(1, 2, 1)\n",
    "sns.histplot(df_concatenado['social_support'], kde=True, color='lightblue')\n",
    "plt.title('Histograma de social_support')\n",
    "plt.xlabel('Social Support')\n",
    "plt.ylabel('Frecuencia')\n",
    "\n",
    "# Boxplot\n",
    "plt.subplot(1, 2, 2)\n",
    "sns.boxplot(x=df_concatenado['social_support'], color='lightgreen')\n",
    "plt.title('Boxplot de social_support')\n",
    "plt.xlabel('Social Support')\n",
    "\n",
    "plt.tight_layout()\n",
    "plt.show()\n",
    "\n",
    "# Print descriptive statistics\n",
    "print(social_support_stats)\n"
   ]
  },
  {
   "cell_type": "markdown",
   "metadata": {},
   "source": [
    "El análisis de la columna social_support muestra que el apoyo social promedio es de aproximadamente 1.078. El histograma presenta una distribución que está sesgada hacia la izquierda, con la mayoría de los países reportando altos niveles de apoyo social, cercanos a 1.5. El boxplot indica que la mayoría de los datos están agrupados entre 0.87 y 1.32, con algunos outliers por debajo de 0.25, lo que refleja países con niveles significativamente bajos de apoyo social."
   ]
  },
  {
   "cell_type": "markdown",
   "metadata": {},
   "source": [
    "#### Columna health_life_expectancy"
   ]
  },
  {
   "cell_type": "code",
   "execution_count": 43,
   "metadata": {},
   "outputs": [
    {
     "data": {
      "image/png": "[encoded data removed]",
      "text/plain": [
       "<Figure size 1100x500 with 2 Axes>"
      ]
     },
     "metadata": {},
     "output_type": "display_data"
    },
    {
     "name": "stdout",
     "output_type": "stream",
     "text": [
      "count    782.000000\n",
      "mean       0.612416\n",
      "std        0.248309\n",
      "min        0.000000\n",
      "25%        0.440183\n",
      "50%        0.647310\n",
      "75%        0.808000\n",
      "max        1.141000\n",
      "Name: health_life_expectancy, dtype: float64\n"
     ]
    }
   ],
   "source": [
    "# Descriptive statistics for health_life_expectancy\n",
    "health_life_expectancy_stats = df_concatenado['health_life_expectancy'].describe()\n",
    "\n",
    "# Plotting the histogram and boxplot for health_life_expectancy\n",
    "plt.figure(figsize=(11, 5))\n",
    "\n",
    "plt.subplot(1, 2, 1)\n",
    "sns.histplot(df_concatenado['health_life_expectancy'], kde=True, color='lightblue')\n",
    "plt.title('Histograma de health_life_expectancy')\n",
    "plt.xlabel('Health Life Expectancy')\n",
    "plt.ylabel('Frecuencia')\n",
    "\n",
    "plt.subplot(1, 2, 2)\n",
    "sns.boxplot(df_concatenado['health_life_expectancy'], color='lightgreen')\n",
    "plt.title('Boxplot de health_life_expectancy')\n",
    "plt.xlabel('Health Life Expectancy')\n",
    "\n",
    "plt.tight_layout()\n",
    "plt.show()\n",
    "\n",
    "# Displaying the descriptive statistics\n",
    "print(health_life_expectancy_stats)\n"
   ]
  },
  {
   "cell_type": "markdown",
   "metadata": {},
   "source": [
    "El análisis de la columna health_life_expectancy muestra que la media es de 0.61, lo que indica que, en promedio, la expectativa de vida saludable es relativamente alta entre los países analizados. El histograma revela que la mayoría de los países tienen valores cercanos a 0.6 o superiores, mientras que el boxplot muestra que hay algunos valores cercanos a 0, que podrían considerarse como outliers, y reflejan países con una expectativa de vida saludable más baja."
   ]
  },
  {
   "cell_type": "markdown",
   "metadata": {},
   "source": [
    "#### Columna freedom"
   ]
  },
  {
   "cell_type": "code",
   "execution_count": 44,
   "metadata": {},
   "outputs": [
    {
     "data": {
      "image/png": "[encoded data removed]",
      "text/plain": [
       "<Figure size 1100x500 with 2 Axes>"
      ]
     },
     "metadata": {},
     "output_type": "display_data"
    },
    {
     "data": {
      "text/plain": [
       "(count    782.000000\n",
       " mean       0.411091\n",
       " std        0.152880\n",
       " min        0.000000\n",
       " 25%        0.309768\n",
       " 50%        0.431000\n",
       " 75%        0.531000\n",
       " max        0.724000\n",
       " Name: freedom, dtype: float64,\n",
       " None)"
      ]
     },
     "execution_count": 44,
     "metadata": {},
     "output_type": "execute_result"
    }
   ],
   "source": [
    "# Calcular estadísticas descriptivas de la columna freedom\n",
    "freedom_stats = df_concatenado['freedom'].describe()\n",
    "\n",
    "# Visualización\n",
    "plt.figure(figsize=(11, 5))\n",
    "\n",
    "# Histograma\n",
    "plt.subplot(1, 2, 1)\n",
    "sns.histplot(df_concatenado['freedom'], kde=True, color='lightcoral')\n",
    "plt.title('Histograma de freedom')\n",
    "plt.xlabel('Freedom')\n",
    "plt.ylabel('Frecuencia')\n",
    "\n",
    "# Boxplot\n",
    "plt.subplot(1, 2, 2)\n",
    "sns.boxplot(y=df_concatenado['freedom'], color='lightgreen')\n",
    "plt.title('Boxplot de freedom')\n",
    "\n",
    "# Mostrar estadísticas descriptivas y gráficos\n",
    "freedom_stats, plt.show()"
   ]
  },
  {
   "cell_type": "markdown",
   "metadata": {},
   "source": [
    "El análisis de la columna freedom revela que la mayoría de los países tienen puntuaciones de libertad en un rango entre 0.3 y 0.6, con una media de 0.41. El histograma muestra una distribución sesgada hacia la derecha, indicando que existen países con niveles relativamente bajos de libertad. El boxplot refleja que la mediana se encuentra alrededor de 0.43, y aunque la mayoría de los países se agrupan en el rango intercuartílico entre 0.31 y 0.53, hay algunos valores mínimos cercanos a 0, lo que indica posibles países con muy poca libertad."
   ]
  },
  {
   "cell_type": "markdown",
   "metadata": {},
   "source": [
    "#### Columna perceptions_of_corruption"
   ]
  },
  {
   "cell_type": "code",
   "execution_count": 45,
   "metadata": {},
   "outputs": [
    {
     "data": {
      "image/png": "[encoded data removed]",
      "text/plain": [
       "<Figure size 1100x500 with 2 Axes>"
      ]
     },
     "metadata": {},
     "output_type": "display_data"
    },
    {
     "data": {
      "text/plain": [
       "count    781.000000\n",
       "mean       0.125436\n",
       "std        0.105816\n",
       "min        0.000000\n",
       "25%        0.054000\n",
       "50%        0.091000\n",
       "75%        0.156030\n",
       "max        0.551910\n",
       "Name: perceptions_of_corruption, dtype: float64"
      ]
     },
     "execution_count": 45,
     "metadata": {},
     "output_type": "execute_result"
    }
   ],
   "source": [
    "# Calcular estadísticas descriptivas y generar gráficos para la columna perceptions_of_corruption\n",
    "perceptions_of_corruption_stats = df_concatenado['perceptions_of_corruption'].describe()\n",
    "\n",
    "# Graficar histograma y boxplot\n",
    "plt.figure(figsize=(11, 5))\n",
    "\n",
    "# Histograma\n",
    "plt.subplot(1, 2, 1)\n",
    "sns.histplot(df_concatenado['perceptions_of_corruption'], kde=True, color='purple', bins=20)\n",
    "plt.title('Histograma de perceptions_of_corruption')\n",
    "plt.xlabel('Perceptions of Corruption')\n",
    "plt.ylabel('Frecuencia')\n",
    "\n",
    "# Boxplot\n",
    "plt.subplot(1, 2, 2)\n",
    "sns.boxplot(y=df_concatenado['perceptions_of_corruption'], color='lightgreen')\n",
    "plt.title('Boxplot de perceptions_of_corruption')\n",
    "plt.ylabel('Perceptions of Corruption')\n",
    "\n",
    "# Mostrar estadísticas descriptivas y gráficos\n",
    "plt.tight_layout()\n",
    "plt.show()\n",
    "\n",
    "perceptions_of_corruption_stats"
   ]
  },
  {
   "cell_type": "markdown",
   "metadata": {},
   "source": [
    "La mayoría de los países tienen una baja percepción de corrupción, con valores concentrados entre 0.05 y 0.15. Sin embargo, algunos países presentan valores más altos, lo que indica disparidades en la percepción de corrupción."
   ]
  },
  {
   "cell_type": "markdown",
   "metadata": {},
   "source": [
    "#### Columna generosity"
   ]
  },
  {
   "cell_type": "code",
   "execution_count": 46,
   "metadata": {},
   "outputs": [
    {
     "data": {
      "image/png": "[encoded data removed]",
      "text/plain": [
       "<Figure size 1100x500 with 2 Axes>"
      ]
     },
     "metadata": {},
     "output_type": "display_data"
    },
    {
     "data": {
      "text/plain": [
       "count    782.000000\n",
       "mean       0.218576\n",
       "std        0.122321\n",
       "min        0.000000\n",
       "25%        0.130000\n",
       "50%        0.201982\n",
       "75%        0.278832\n",
       "max        0.838075\n",
       "Name: generosity, dtype: float64"
      ]
     },
     "execution_count": 46,
     "metadata": {},
     "output_type": "execute_result"
    }
   ],
   "source": [
    "# Calcular estadísticas descriptivas para la columna generosity\n",
    "generosity_stats = df_concatenado['generosity'].describe()\n",
    "\n",
    "# Generar histograma y boxplot para la columna generosity\n",
    "plt.figure(figsize=(11, 5))\n",
    "\n",
    "plt.subplot(1, 2, 1)\n",
    "sns.histplot(df_concatenado['generosity'], kde=True, color='lightcoral')\n",
    "plt.title('Histograma de generosity')\n",
    "plt.xlabel('Generosity')\n",
    "plt.ylabel('Frecuencia')\n",
    "\n",
    "plt.subplot(1, 2, 2)\n",
    "sns.boxplot(y=df_concatenado['generosity'], color='lightgreen')\n",
    "plt.title('Boxplot de generosity')\n",
    "\n",
    "# Mostrar estadísticas descriptivas y gráficos\n",
    "plt.tight_layout()\n",
    "plt.show()\n",
    "\n",
    "generosity_stats"
   ]
  },
  {
   "cell_type": "markdown",
   "metadata": {},
   "source": [
    "La columna generosity muestra una distribución sesgada hacia la derecha, con la mayoría de los valores concentrados entre 0 y 0.3. Los outliers en el boxplot indican que algunos países tienen niveles de generosidad más altos. La media es de 0.218, reflejando que la generosidad tiende a ser baja en la mayoría de los países."
   ]
  },
  {
   "cell_type": "markdown",
   "metadata": {},
   "source": [
    "Revisamos el dataset limpio antes de guardarlo."
   ]
  },
  {
   "cell_type": "code",
   "execution_count": 47,
   "metadata": {},
   "outputs": [
    {
     "data": {
      "text/html": [
       "<div>\n",
       "<style scoped>\n",
       "    .dataframe tbody tr th:only-of-type {\n",
       "        vertical-align: middle;\n",
       "    }\n",
       "\n",
       "    .dataframe tbody tr th {\n",
       "        vertical-align: top;\n",
       "    }\n",
       "\n",
       "    .dataframe thead th {\n",
       "        text-align: right;\n",
       "    }\n",
       "</style>\n",
       "<table border=\"1\" class=\"dataframe\">\n",
       "  <thead>\n",
       "    <tr style=\"text-align: right;\">\n",
       "      <th></th>\n",
       "      <th>happiness_score</th>\n",
       "      <th>gdp_per_capita</th>\n",
       "      <th>social_support</th>\n",
       "      <th>health_life_expectancy</th>\n",
       "      <th>freedom</th>\n",
       "      <th>perceptions_of_corruption</th>\n",
       "      <th>generosity</th>\n",
       "      <th>year</th>\n",
       "      <th>continent</th>\n",
       "    </tr>\n",
       "  </thead>\n",
       "  <tbody>\n",
       "    <tr>\n",
       "      <th>0</th>\n",
       "      <td>7.587</td>\n",
       "      <td>1.39651</td>\n",
       "      <td>1.34951</td>\n",
       "      <td>0.94143</td>\n",
       "      <td>0.66557</td>\n",
       "      <td>0.41978</td>\n",
       "      <td>0.29678</td>\n",
       "      <td>NaN</td>\n",
       "      <td>europe</td>\n",
       "    </tr>\n",
       "    <tr>\n",
       "      <th>1</th>\n",
       "      <td>7.561</td>\n",
       "      <td>1.30232</td>\n",
       "      <td>1.40223</td>\n",
       "      <td>0.94784</td>\n",
       "      <td>0.62877</td>\n",
       "      <td>0.14145</td>\n",
       "      <td>0.43630</td>\n",
       "      <td>2015</td>\n",
       "      <td>europe</td>\n",
       "    </tr>\n",
       "    <tr>\n",
       "      <th>2</th>\n",
       "      <td>7.527</td>\n",
       "      <td>1.32548</td>\n",
       "      <td>1.36058</td>\n",
       "      <td>0.87464</td>\n",
       "      <td>0.64938</td>\n",
       "      <td>0.48357</td>\n",
       "      <td>0.34139</td>\n",
       "      <td>2015</td>\n",
       "      <td>europe</td>\n",
       "    </tr>\n",
       "    <tr>\n",
       "      <th>3</th>\n",
       "      <td>7.522</td>\n",
       "      <td>1.45900</td>\n",
       "      <td>1.33095</td>\n",
       "      <td>0.88521</td>\n",
       "      <td>0.66973</td>\n",
       "      <td>0.36503</td>\n",
       "      <td>0.34699</td>\n",
       "      <td>2015</td>\n",
       "      <td>europe</td>\n",
       "    </tr>\n",
       "    <tr>\n",
       "      <th>4</th>\n",
       "      <td>7.427</td>\n",
       "      <td>1.32629</td>\n",
       "      <td>1.32261</td>\n",
       "      <td>0.90563</td>\n",
       "      <td>0.63297</td>\n",
       "      <td>0.32957</td>\n",
       "      <td>0.45811</td>\n",
       "      <td>2015</td>\n",
       "      <td>north_america</td>\n",
       "    </tr>\n",
       "  </tbody>\n",
       "</table>\n",
       "</div>"
      ],
      "text/plain": [
       "   happiness_score  gdp_per_capita  social_support  health_life_expectancy  \\\n",
       "0            7.587         1.39651         1.34951                 0.94143   \n",
       "1            7.561         1.30232         1.40223                 0.94784   \n",
       "2            7.527         1.32548         1.36058                 0.87464   \n",
       "3            7.522         1.45900         1.33095                 0.88521   \n",
       "4            7.427         1.32629         1.32261                 0.90563   \n",
       "\n",
       "   freedom  perceptions_of_corruption  generosity  year      continent  \n",
       "0  0.66557                    0.41978     0.29678   NaN         europe  \n",
       "1  0.62877                    0.14145     0.43630  2015         europe  \n",
       "2  0.64938                    0.48357     0.34139  2015         europe  \n",
       "3  0.66973                    0.36503     0.34699  2015         europe  \n",
       "4  0.63297                    0.32957     0.45811  2015  north_america  "
      ]
     },
     "execution_count": 47,
     "metadata": {},
     "output_type": "execute_result"
    }
   ],
   "source": [
    "df_concatenado.head()"
   ]
  },
  {
   "cell_type": "code",
   "execution_count": 48,
   "metadata": {},
   "outputs": [
    {
     "name": "stdout",
     "output_type": "stream",
     "text": [
      "<class 'pandas.core.frame.DataFrame'>\n",
      "RangeIndex: 782 entries, 0 to 781\n",
      "Data columns (total 9 columns):\n",
      " #   Column                     Non-Null Count  Dtype   \n",
      "---  ------                     --------------  -----   \n",
      " 0   happiness_score            782 non-null    float64 \n",
      " 1   gdp_per_capita             782 non-null    float64 \n",
      " 2   social_support             782 non-null    float64 \n",
      " 3   health_life_expectancy     782 non-null    float64 \n",
      " 4   freedom                    782 non-null    float64 \n",
      " 5   perceptions_of_corruption  781 non-null    float64 \n",
      " 6   generosity                 782 non-null    float64 \n",
      " 7   year                       781 non-null    category\n",
      " 8   continent                  768 non-null    object  \n",
      "dtypes: category(1), float64(7), object(1)\n",
      "memory usage: 50.0+ KB\n"
     ]
    }
   ],
   "source": [
    "df_concatenado.info()"
   ]
  },
  {
   "cell_type": "code",
   "execution_count": 56,
   "metadata": {},
   "outputs": [],
   "source": [
    "df_cleaned = df_concatenado.dropna(subset=[\"perceptions_of_corruption\", \"year\", \"continent\"])"
   ]
  },
  {
   "cell_type": "code",
   "execution_count": 57,
   "metadata": {},
   "outputs": [
    {
     "name": "stdout",
     "output_type": "stream",
     "text": [
      "Index(['happiness_score', 'gdp_per_capita', 'social_support',\n",
      "       'health_life_expectancy', 'freedom', 'perceptions_of_corruption',\n",
      "       'generosity', 'year', 'continent'],\n",
      "      dtype='object')\n"
     ]
    }
   ],
   "source": [
    "# Verificar las columnas actuales en el DataFrame\n",
    "print(df_cleaned.columns)"
   ]
  },
  {
   "cell_type": "code",
   "execution_count": 58,
   "metadata": {},
   "outputs": [
    {
     "name": "stdout",
     "output_type": "stream",
     "text": [
      "Columnas originales:\n",
      "Index(['happiness_score', 'gdp_per_capita', 'social_support',\n",
      "       'health_life_expectancy', 'freedom', 'perceptions_of_corruption',\n",
      "       'generosity', 'year', 'continent'],\n",
      "      dtype='object')\n",
      "Columnas después de One-Hot Encoding solo para 'continent':\n",
      "Index(['happiness_score', 'gdp_per_capita', 'social_support',\n",
      "       'health_life_expectancy', 'freedom', 'perceptions_of_corruption',\n",
      "       'generosity', 'year', 'continent_africa', 'continent_asia',\n",
      "       'continent_europe', 'continent_north_america', 'continent_oceania',\n",
      "       'continent_south_america'],\n",
      "      dtype='object')\n"
     ]
    }
   ],
   "source": [
    "# Verificar las columnas antes de la transformación\n",
    "print(\"Columnas originales:\")\n",
    "print(df_concatenado.columns)\n",
    "\n",
    "# Transformar únicamente la columna 'continent' usando One-Hot Encoding, sin alterar las demás columnas\n",
    "if 'continent' in df_cleaned.columns:\n",
    "   df_cleaned = pd.get_dummies(df_cleaned, columns=['continent'], drop_first=False)\n",
    "\n",
    "# Verificar las columnas después de la transformación para asegurarse de que las demás no han sido modificadas\n",
    "print(\"Columnas después de One-Hot Encoding solo para 'continent':\")\n",
    "print(df_cleaned.columns)"
   ]
  },
  {
   "cell_type": "code",
   "execution_count": 59,
   "metadata": {},
   "outputs": [
    {
     "data": {
      "text/html": [
       "<div>\n",
       "<style scoped>\n",
       "    .dataframe tbody tr th:only-of-type {\n",
       "        vertical-align: middle;\n",
       "    }\n",
       "\n",
       "    .dataframe tbody tr th {\n",
       "        vertical-align: top;\n",
       "    }\n",
       "\n",
       "    .dataframe thead th {\n",
       "        text-align: right;\n",
       "    }\n",
       "</style>\n",
       "<table border=\"1\" class=\"dataframe\">\n",
       "  <thead>\n",
       "    <tr style=\"text-align: right;\">\n",
       "      <th></th>\n",
       "      <th>happiness_score</th>\n",
       "      <th>gdp_per_capita</th>\n",
       "      <th>social_support</th>\n",
       "      <th>health_life_expectancy</th>\n",
       "      <th>freedom</th>\n",
       "      <th>perceptions_of_corruption</th>\n",
       "      <th>generosity</th>\n",
       "      <th>year</th>\n",
       "      <th>continent_africa</th>\n",
       "      <th>continent_asia</th>\n",
       "      <th>continent_europe</th>\n",
       "      <th>continent_north_america</th>\n",
       "      <th>continent_oceania</th>\n",
       "      <th>continent_south_america</th>\n",
       "    </tr>\n",
       "  </thead>\n",
       "  <tbody>\n",
       "    <tr>\n",
       "      <th>1</th>\n",
       "      <td>7.561</td>\n",
       "      <td>1.30232</td>\n",
       "      <td>1.40223</td>\n",
       "      <td>0.94784</td>\n",
       "      <td>0.62877</td>\n",
       "      <td>0.14145</td>\n",
       "      <td>0.43630</td>\n",
       "      <td>2015</td>\n",
       "      <td>False</td>\n",
       "      <td>False</td>\n",
       "      <td>True</td>\n",
       "      <td>False</td>\n",
       "      <td>False</td>\n",
       "      <td>False</td>\n",
       "    </tr>\n",
       "    <tr>\n",
       "      <th>2</th>\n",
       "      <td>7.527</td>\n",
       "      <td>1.32548</td>\n",
       "      <td>1.36058</td>\n",
       "      <td>0.87464</td>\n",
       "      <td>0.64938</td>\n",
       "      <td>0.48357</td>\n",
       "      <td>0.34139</td>\n",
       "      <td>2015</td>\n",
       "      <td>False</td>\n",
       "      <td>False</td>\n",
       "      <td>True</td>\n",
       "      <td>False</td>\n",
       "      <td>False</td>\n",
       "      <td>False</td>\n",
       "    </tr>\n",
       "    <tr>\n",
       "      <th>3</th>\n",
       "      <td>7.522</td>\n",
       "      <td>1.45900</td>\n",
       "      <td>1.33095</td>\n",
       "      <td>0.88521</td>\n",
       "      <td>0.66973</td>\n",
       "      <td>0.36503</td>\n",
       "      <td>0.34699</td>\n",
       "      <td>2015</td>\n",
       "      <td>False</td>\n",
       "      <td>False</td>\n",
       "      <td>True</td>\n",
       "      <td>False</td>\n",
       "      <td>False</td>\n",
       "      <td>False</td>\n",
       "    </tr>\n",
       "    <tr>\n",
       "      <th>4</th>\n",
       "      <td>7.427</td>\n",
       "      <td>1.32629</td>\n",
       "      <td>1.32261</td>\n",
       "      <td>0.90563</td>\n",
       "      <td>0.63297</td>\n",
       "      <td>0.32957</td>\n",
       "      <td>0.45811</td>\n",
       "      <td>2015</td>\n",
       "      <td>False</td>\n",
       "      <td>False</td>\n",
       "      <td>False</td>\n",
       "      <td>True</td>\n",
       "      <td>False</td>\n",
       "      <td>False</td>\n",
       "    </tr>\n",
       "    <tr>\n",
       "      <th>5</th>\n",
       "      <td>7.406</td>\n",
       "      <td>1.29025</td>\n",
       "      <td>1.31826</td>\n",
       "      <td>0.88911</td>\n",
       "      <td>0.64169</td>\n",
       "      <td>0.41372</td>\n",
       "      <td>0.23351</td>\n",
       "      <td>2015</td>\n",
       "      <td>False</td>\n",
       "      <td>False</td>\n",
       "      <td>True</td>\n",
       "      <td>False</td>\n",
       "      <td>False</td>\n",
       "      <td>False</td>\n",
       "    </tr>\n",
       "  </tbody>\n",
       "</table>\n",
       "</div>"
      ],
      "text/plain": [
       "   happiness_score  gdp_per_capita  social_support  health_life_expectancy  \\\n",
       "1            7.561         1.30232         1.40223                 0.94784   \n",
       "2            7.527         1.32548         1.36058                 0.87464   \n",
       "3            7.522         1.45900         1.33095                 0.88521   \n",
       "4            7.427         1.32629         1.32261                 0.90563   \n",
       "5            7.406         1.29025         1.31826                 0.88911   \n",
       "\n",
       "   freedom  perceptions_of_corruption  generosity  year  continent_africa  \\\n",
       "1  0.62877                    0.14145     0.43630  2015             False   \n",
       "2  0.64938                    0.48357     0.34139  2015             False   \n",
       "3  0.66973                    0.36503     0.34699  2015             False   \n",
       "4  0.63297                    0.32957     0.45811  2015             False   \n",
       "5  0.64169                    0.41372     0.23351  2015             False   \n",
       "\n",
       "   continent_asia  continent_europe  continent_north_america  \\\n",
       "1           False              True                    False   \n",
       "2           False              True                    False   \n",
       "3           False              True                    False   \n",
       "4           False             False                     True   \n",
       "5           False              True                    False   \n",
       "\n",
       "   continent_oceania  continent_south_america  \n",
       "1              False                    False  \n",
       "2              False                    False  \n",
       "3              False                    False  \n",
       "4              False                    False  \n",
       "5              False                    False  "
      ]
     },
     "execution_count": 59,
     "metadata": {},
     "output_type": "execute_result"
    }
   ],
   "source": [
    "df_cleaned.head()"
   ]
  },
  {
   "cell_type": "code",
   "execution_count": 60,
   "metadata": {},
   "outputs": [],
   "source": [
    "# Convertir todas las columnas booleanas (continent) a enteros (0 y 1)\n",
    "df_cleaned[['continent_africa', 'continent_asia', 'continent_europe', \n",
    "    'continent_north_america', 'continent_oceania', 'continent_south_america']] = df_cleaned[['continent_africa', 'continent_asia', 'continent_europe', \n",
    "    'continent_north_america', 'continent_oceania', 'continent_south_america']].astype(int)"
   ]
  },
  {
   "cell_type": "code",
   "execution_count": 61,
   "metadata": {},
   "outputs": [
    {
     "data": {
      "text/html": [
       "<div>\n",
       "<style scoped>\n",
       "    .dataframe tbody tr th:only-of-type {\n",
       "        vertical-align: middle;\n",
       "    }\n",
       "\n",
       "    .dataframe tbody tr th {\n",
       "        vertical-align: top;\n",
       "    }\n",
       "\n",
       "    .dataframe thead th {\n",
       "        text-align: right;\n",
       "    }\n",
       "</style>\n",
       "<table border=\"1\" class=\"dataframe\">\n",
       "  <thead>\n",
       "    <tr style=\"text-align: right;\">\n",
       "      <th></th>\n",
       "      <th>happiness_score</th>\n",
       "      <th>gdp_per_capita</th>\n",
       "      <th>social_support</th>\n",
       "      <th>health_life_expectancy</th>\n",
       "      <th>freedom</th>\n",
       "      <th>perceptions_of_corruption</th>\n",
       "      <th>generosity</th>\n",
       "      <th>year</th>\n",
       "      <th>continent_africa</th>\n",
       "      <th>continent_asia</th>\n",
       "      <th>continent_europe</th>\n",
       "      <th>continent_north_america</th>\n",
       "      <th>continent_oceania</th>\n",
       "      <th>continent_south_america</th>\n",
       "    </tr>\n",
       "  </thead>\n",
       "  <tbody>\n",
       "    <tr>\n",
       "      <th>1</th>\n",
       "      <td>7.561</td>\n",
       "      <td>1.30232</td>\n",
       "      <td>1.40223</td>\n",
       "      <td>0.94784</td>\n",
       "      <td>0.62877</td>\n",
       "      <td>0.14145</td>\n",
       "      <td>0.43630</td>\n",
       "      <td>2015</td>\n",
       "      <td>0</td>\n",
       "      <td>0</td>\n",
       "      <td>1</td>\n",
       "      <td>0</td>\n",
       "      <td>0</td>\n",
       "      <td>0</td>\n",
       "    </tr>\n",
       "    <tr>\n",
       "      <th>2</th>\n",
       "      <td>7.527</td>\n",
       "      <td>1.32548</td>\n",
       "      <td>1.36058</td>\n",
       "      <td>0.87464</td>\n",
       "      <td>0.64938</td>\n",
       "      <td>0.48357</td>\n",
       "      <td>0.34139</td>\n",
       "      <td>2015</td>\n",
       "      <td>0</td>\n",
       "      <td>0</td>\n",
       "      <td>1</td>\n",
       "      <td>0</td>\n",
       "      <td>0</td>\n",
       "      <td>0</td>\n",
       "    </tr>\n",
       "    <tr>\n",
       "      <th>3</th>\n",
       "      <td>7.522</td>\n",
       "      <td>1.45900</td>\n",
       "      <td>1.33095</td>\n",
       "      <td>0.88521</td>\n",
       "      <td>0.66973</td>\n",
       "      <td>0.36503</td>\n",
       "      <td>0.34699</td>\n",
       "      <td>2015</td>\n",
       "      <td>0</td>\n",
       "      <td>0</td>\n",
       "      <td>1</td>\n",
       "      <td>0</td>\n",
       "      <td>0</td>\n",
       "      <td>0</td>\n",
       "    </tr>\n",
       "    <tr>\n",
       "      <th>4</th>\n",
       "      <td>7.427</td>\n",
       "      <td>1.32629</td>\n",
       "      <td>1.32261</td>\n",
       "      <td>0.90563</td>\n",
       "      <td>0.63297</td>\n",
       "      <td>0.32957</td>\n",
       "      <td>0.45811</td>\n",
       "      <td>2015</td>\n",
       "      <td>0</td>\n",
       "      <td>0</td>\n",
       "      <td>0</td>\n",
       "      <td>1</td>\n",
       "      <td>0</td>\n",
       "      <td>0</td>\n",
       "    </tr>\n",
       "    <tr>\n",
       "      <th>5</th>\n",
       "      <td>7.406</td>\n",
       "      <td>1.29025</td>\n",
       "      <td>1.31826</td>\n",
       "      <td>0.88911</td>\n",
       "      <td>0.64169</td>\n",
       "      <td>0.41372</td>\n",
       "      <td>0.23351</td>\n",
       "      <td>2015</td>\n",
       "      <td>0</td>\n",
       "      <td>0</td>\n",
       "      <td>1</td>\n",
       "      <td>0</td>\n",
       "      <td>0</td>\n",
       "      <td>0</td>\n",
       "    </tr>\n",
       "  </tbody>\n",
       "</table>\n",
       "</div>"
      ],
      "text/plain": [
       "   happiness_score  gdp_per_capita  social_support  health_life_expectancy  \\\n",
       "1            7.561         1.30232         1.40223                 0.94784   \n",
       "2            7.527         1.32548         1.36058                 0.87464   \n",
       "3            7.522         1.45900         1.33095                 0.88521   \n",
       "4            7.427         1.32629         1.32261                 0.90563   \n",
       "5            7.406         1.29025         1.31826                 0.88911   \n",
       "\n",
       "   freedom  perceptions_of_corruption  generosity  year  continent_africa  \\\n",
       "1  0.62877                    0.14145     0.43630  2015                 0   \n",
       "2  0.64938                    0.48357     0.34139  2015                 0   \n",
       "3  0.66973                    0.36503     0.34699  2015                 0   \n",
       "4  0.63297                    0.32957     0.45811  2015                 0   \n",
       "5  0.64169                    0.41372     0.23351  2015                 0   \n",
       "\n",
       "   continent_asia  continent_europe  continent_north_america  \\\n",
       "1               0                 1                        0   \n",
       "2               0                 1                        0   \n",
       "3               0                 1                        0   \n",
       "4               0                 0                        1   \n",
       "5               0                 1                        0   \n",
       "\n",
       "   continent_oceania  continent_south_america  \n",
       "1                  0                        0  \n",
       "2                  0                        0  \n",
       "3                  0                        0  \n",
       "4                  0                        0  \n",
       "5                  0                        0  "
      ]
     },
     "execution_count": 61,
     "metadata": {},
     "output_type": "execute_result"
    }
   ],
   "source": [
    "df_cleaned.head()"
   ]
  },
  {
   "cell_type": "markdown",
   "metadata": {},
   "source": [
    "Finalmente guardamos el dataset para continuar con el model training."
   ]
  },
  {
   "cell_type": "code",
   "execution_count": 62,
   "metadata": {},
   "outputs": [],
   "source": [
    "# Guardar el DataFrame limpio en la carpeta 'data'\n",
    "df_cleaned.to_csv('../data/datos_limpios.csv', index=False)"
   ]
  }
 ],
 "metadata": {
  "kernelspec": {
   "display_name": "Python 3",
   "language": "python",
   "name": "python3"
  },
  "language_info": {
   "codemirror_mode": {
    "name": "ipython",
    "version": 3
   },
   "file_extension": ".py",
   "mimetype": "text/x-python",
   "name": "python",
   "nbconvert_exporter": "python",
   "pygments_lexer": "ipython3",
   "version": "3.12.6"
  }
 },
 "nbformat": 4,
 "nbformat_minor": 2
}
