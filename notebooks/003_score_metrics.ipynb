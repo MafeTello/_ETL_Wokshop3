{
 "cells": [
  {
   "cell_type": "markdown",
   "metadata": {},
   "source": [
    "#### MODEL METRICS"
   ]
  },
  {
   "cell_type": "code",
   "execution_count": null,
   "metadata": {},
   "outputs": [],
   "source": [
    "# Importar las librerías necesarias\n",
    "import sys\n",
    "import pandas as pd\n",
    "from decouple import config\n",
    "\n",
    "# Agregar la ruta de la conexión a la base de datos\n",
    "sys.path.append(\"../database\") \n",
    "import Pysqlconnect  # Módulo de conexión a la base de datos\n",
    "\n",
    "# Leer el archivo CSV en un DataFrame\n",
    "df = pd.read_csv(\"../data/datos_limpios.csv\")\n",
    "\n",
    "# Cargar el DataFrame en una tabla de la base de datos\n",
    "df.to_sql(\"kafka_data\", Pysqlconnect.connection(), if_exists=\"replace\", index=False)\n",
    "\n",
    "# Leer los datos de la tabla en un nuevo DataFrame para análisis\n",
    "df_from_db = pd.read_sql(\"SELECT * FROM kafka_data\", Pysqlconnect.connection())\n",
    "\n",
    "# Mostrar los primeros registros para verificar\n",
    "df_from_db.head()\n"
   ]
  }
 ],
 "metadata": {
  "kernelspec": {
   "display_name": "Python 3",
   "language": "python",
   "name": "python3"
  },
  "language_info": {
   "codemirror_mode": {
    "name": "ipython",
    "version": 3
   },
   "file_extension": ".py",
   "mimetype": "text/x-python",
   "name": "python",
   "nbconvert_exporter": "python",
   "pygments_lexer": "ipython3",
   "version": "3.12.6"
  }
 },
 "nbformat": 4,
 "nbformat_minor": 2
}
